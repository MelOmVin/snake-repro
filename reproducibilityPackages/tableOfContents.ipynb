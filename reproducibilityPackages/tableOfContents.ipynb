{
 "cells": [
  {
   "cell_type": "markdown",
   "metadata": {},
   "source": [
    "# Table of Contents\n",
    "\n",
    "---\n",
    "\n",
    "Each item has a link to a Jupyter-Notebook that contains information about the simulation and post-processing scripts.\n",
    "\n",
    "To post-process and compare the numerical solution from the 4 different software, we developed a Python package, named `snake`, hosted on [GitHub](https://github.com/mesnardo/snake) under the MIT License.\n",
    "Installation instructions can be found in the README of the code repository."
   ]
  },
  {
   "cell_type": "markdown",
   "metadata": {},
   "source": [
    "* OpenFOAM\n",
    "    + GMSH\n",
    "        - [Re=2000 and AoA=35deg](openfoam/gmsh/Re2000AoA35/report.ipynb)\n",
    "    + SnappyHexMesh\n",
    "        - [Re=1000 and AoA=25deg](openfoam/snappyHexMesh/Re1000AoA25/report.ipynb)\n",
    "        - [Re=1000 and AoA=30deg](openfoam/snappyHexMesh/Re1000AoA30/report.ipynb)\n",
    "        - [Re=1000 and AoA=35deg](openfoam/snappyHexMesh/Re1000AoA35/report.ipynb)\n",
    "        - [Re=1000 and AoA=40deg](openfoam/snappyHexMesh/Re1000AoA40/report.ipynb)\n",
    "        - [Re=2000 and AoA=25deg](openfoam/snappyHexMesh/Re2000AoA25/report.ipynb)\n",
    "        - [Re=2000 and AoA=30deg](openfoam/snappyHexMesh/Re2000AoA30/report.ipynb)\n",
    "        - [Re=2000 and AoA=35deg](openfoam/snappyHexMesh/Re2000AoA35/report.ipynb)\n",
    "        - [Re=2000 and AoA=40deg](openfoam/snappyHexMesh/Re2000AoA40/report.ipynb)\n",
    "\n",
    "* IBAMR\n",
    "    + Zero-gradient outlet boundary condition\n",
    "        - [Re=2000 and AoA=35deg](ibamr/zeroGradientOutlet/Re2000AoA35/report.ipynb)\n",
    "    + Surface markers\n",
    "        - [Re=1000 and AoA=25deg](ibamr/surfaceMarkers/Re1000AoA25/report.ipynb)\n",
    "        - [Re=1000 and AoA=30deg](ibamr/surfaceMarkers/Re1000AoA30/report.ipynb)\n",
    "        - [Re=1000 and AoA=35deg](ibamr/surfaceMarkers/Re1000AoA35/report.ipynb)\n",
    "        - [Re=1000 and AoA=40deg](ibamr/surfaceMarkers/Re1000AoA40/report.ipynb)\n",
    "        - [Re=2000 and AoA=25deg](ibamr/surfaceMarkers/Re2000AoA25/report.ipynb)\n",
    "        - [Re=2000 and AoA=30deg](ibamr/surfaceMarkers/Re2000AoA30/report.ipynb)\n",
    "        - [Re=2000 and AoA=35deg](ibamr/surfaceMarkers/Re2000AoA35/report.ipynb)\n",
    "        - [Re=2000 and AoA=40deg](ibamr/surfaceMarkers/Re2000AoA40/report.ipynb)\n",
    "\n",
    "    + Body markers\n",
    "        - [Re=1000 and AoA=25deg](ibamr/bodyMarkers/Re1000AoA25/report.ipynb)\n",
    "        - [Re=1000 and AoA=30deg](ibamr/bodyMarkers/Re1000AoA30/report.ipynb)\n",
    "        - [Re=1000 and AoA=35deg](ibamr/bodyMarkers/Re1000AoA35/report.ipynb)\n",
    "        - [Re=1000 and AoA=40deg](ibamr/bodyMarkers/Re1000AoA40/report.ipynb)\n",
    "        - [Re=2000 and AoA=25deg](ibamr/bodyMarkers/Re2000AoA25/report.ipynb)\n",
    "        - [Re=2000 and AoA=30deg](ibamr/bodyMarkers/Re2000AoA30/report.ipynb)\n",
    "        - [Re=2000 and AoA=35deg](ibamr/bodyMarkers/Re2000AoA35/report.ipynb)\n",
    "        - [Re=2000 and AoA=40deg](ibamr/bodyMarkers/Re2000AoA40/report.ipynb)\n",
    "        - [Re=2000 and AoA=35deg and CFL=0.1](ibamr/bodyMarkers/Re2000AoA35CFL0.1/report.ipynb)\n",
    "\n",
    "* PetIBM\n",
    "    + shifted markers\n",
    "        - [Re=1000 and AoA=25deg](petibm/shiftedMarkers/Re1000AoA25/report.ipynb)\n",
    "        - [Re=1000 and AoA=30deg](petibm/shiftedMarkers/Re1000AoA30/report.ipynb)\n",
    "        - [Re=1000 and AoA=35deg](petibm/shiftedMarkers/Re1000AoA35/report.ipynb)\n",
    "        - [Re=1000 and AoA=40deg](petibm/shiftedMarkers/Re1000AoA40/report.ipynb)\n",
    "        - [Re=2000 and AoA=25deg](petibm/shiftedMarkers/Re2000AoA25/report.ipynb)\n",
    "        - [Re=2000 and AoA=30deg](petibm/shiftedMarkers/Re2000AoA30/report.ipynb)\n",
    "        - [Re=2000 and AoA=35deg](petibm/shiftedMarkers/Re2000AoA35/report.ipynb)\n",
    "        - [Re=2000 and AoA=40deg](petibm/shiftedMarkers/Re2000AoA40/report.ipynb)\n",
    "    + exact markers\n",
    "        - [Re=2000 and AoA=35deg](petibm/exactMarkers/Re2000AoA35/report.ipynb)\n",
    "\n",
    "* cuIBM\n",
    "    + revision 86 - CUSP-0.4.0\n",
    "        - [Re=2000 and AoA=35deg](cuibm/revision86/Re2000AoA35/report.ipynb)\n",
    "    + current version - CUSP-0.4.0\n",
    "        - [Re=2000 and AoA=35deg](cuibm/current/cusp040/Re2000AoA35/report.ipynb)\n",
    "    + current version - CUSP-0.5.1\n",
    "        - [Re=1000 and AoA=35deg](cuibm/current/cusp051/Re1000AoA35/report.ipynb)\n",
    "        - [Re=2000 and AoA=30deg](cuibm/current/cusp051/Re2000AoA30/report.ipynb)\n",
    "        - [Re=2000 and AoA=35deg](cuibm/current/cusp051/Re2000AoA35/report.ipynb)"
   ]
  },
  {
   "cell_type": "code",
   "execution_count": null,
   "metadata": {
    "collapsed": true
   },
   "outputs": [],
   "source": []
  }
 ],
 "metadata": {
  "hide_input": true,
  "kernelspec": {
   "display_name": "Python 2",
   "language": "python",
   "name": "python2"
  },
  "language_info": {
   "codemirror_mode": {
    "name": "ipython",
    "version": 2
   },
   "file_extension": ".py",
   "mimetype": "text/x-python",
   "name": "python",
   "nbconvert_exporter": "python",
   "pygments_lexer": "ipython2",
   "version": "2.7.12"
  }
 },
 "nbformat": 4,
 "nbformat_minor": 0
}
