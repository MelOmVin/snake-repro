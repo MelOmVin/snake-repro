{
 "cells": [
  {
   "cell_type": "markdown",
   "metadata": {},
   "source": [
    "# Independence analysis with PetIBM\n",
    "---"
   ]
  },
  {
   "cell_type": "markdown",
   "metadata": {},
   "source": [
    "The present notebook  contains all the simulation inputs used to conduct an independence analysis with our in-house code PetIBM.\n",
    "\n",
    "PetIBM solves the incompressible Navier-Stokes equations using the immersed-boundary projection method of Taira and Colonius (2007).\n",
    "\n",
    "All simulations reported in the directory were run using [PetIBM-0.1.1](https://github.com/barbagroup/PetIBM/releases/tag/0.1.1) on the university cluster.\n",
    "PetIBM relies on the library PETSc (version 3.5.2) and OpenMPI-1.8."
   ]
  },
  {
   "cell_type": "code",
   "execution_count": null,
   "metadata": {
    "collapsed": true
   },
   "outputs": [],
   "source": [
    "import os\n",
    "import sys\n",
    "%matplotlib inline\n",
    "\n",
    "from IPython.display import Image \n",
    "\n",
    "import snake"
   ]
  },
  {
   "cell_type": "code",
   "execution_count": null,
   "metadata": {
    "collapsed": false
   },
   "outputs": [],
   "source": [
    "print('Python version: {}'.format(sys.version))\n",
    "print('snake version: {}'.format(snake.__version__))"
   ]
  },
  {
   "cell_type": "markdown",
   "metadata": {},
   "source": [
    "Last time we ran this notebook, the output of the cell above was:\n",
    "```\n",
    "Python version: 2.7.12 |Anaconda 2.5.0 (64-bit)| (default, Jul  2 2016, 17:42:40) \n",
    "[GCC 4.4.7 20120313 (Red Hat 4.4.7-1)]\n",
    "snake version: 0.1.2\n",
    "```"
   ]
  },
  {
   "cell_type": "markdown",
   "metadata": {},
   "source": [
    "---\n",
    "## Table of contents of the directory:\n",
    "---\n",
    "\n",
    "* `gridIndependence/`:\n",
    "    - `h0.004/`: simulation reported in our manuscript using a grid with spacing $h=0.004$ in the uniform region surrounding the bluff-body.\n",
    "    - `h0.006/`: using a coarse grid with spacing $h=0.006$.\n",
    "\n",
    "* `iterativeIndependence/`:\n",
    "    - `rtol5/`: simulation reported in our manuscript using a relative tolerance of $10^{-5}$ for the velocity and Poisson iterative solvers.\n",
    "    - `rtol8/`: tightening the exit criterion to a relative tolerance of $10^{-8}$ for the velocity and Poisson iterative solvers.\n",
    "\n",
    "* `temporalIndependence/`:\n",
    "    - `dt0.0004/`: simulation reported in our manuscript using a time-increment $\\Delta t=4\\times 10^{-4}$.\n",
    "    - `dt0.0002/`: halving the time-increment to $\\Delta t=2\\times 10^{-4}$ to assess the temporal independence in the time-averaged force coefficients."
   ]
  },
  {
   "cell_type": "markdown",
   "metadata": {},
   "source": [
    "---\n",
    "## Iterative independence\n",
    "---"
   ]
  },
  {
   "cell_type": "markdown",
   "metadata": {},
   "source": [
    "The numerical solution reported for PetIBM in our manuscript was computed using a relative tolerance of $10^{-5}$ as exit criterion for the both the velocity and Poisson iterative solvers.\n",
    "The tolerance was used in our previous study (Krishnan et al., 2014) with cuIBM and the linear aglebra library CUSP.\n",
    "In PetIBM, we use the library PETSc to iterative solve the systems.\n",
    "\n",
    "To investigate the effect of the solver exit criterion on the solution, we decreased the relative tolerance of both solvers by three orders of magnitude and compute the solution over 80 non-dimensional time-units.\n",
    "\n",
    "The next cell executes a Python script named `plotForceCoefficientsCompareRTol.py` located in the folder `iterativeIndependence`.\n",
    "This script requires the numerical solution from two simulations whose input files are provided in the sub-folders `rtol5` and `rolt8`.\n",
    "The `README` file details the procedure to run these two simulations.\n",
    "However, if you do not have the numerical solution, you may skip the next cell and execute the one after to display the instantaneous force coefficients we obtained."
   ]
  },
  {
   "cell_type": "code",
   "execution_count": null,
   "metadata": {
    "collapsed": false
   },
   "outputs": [],
   "source": [
    "# WARNING: execute this cell if you have the numerical solutions\n",
    "script = os.path.join('iterativeIndependence',\n",
    "                      'plotForceCoefficientsCompareRTol.py')\n",
    "%run $script"
   ]
  },
  {
   "cell_type": "code",
   "execution_count": null,
   "metadata": {
    "collapsed": false
   },
   "outputs": [],
   "source": [
    "Image(os.path.join('iterativeIndependence',\n",
    "                   'forceCoefficientsCompareRTol.png'))"
   ]
  },
  {
   "cell_type": "markdown",
   "metadata": {},
   "source": [
    "When we average the force coefficients between 32 and 64 time-units (as done in Kirshnan et al., 2014), we get\n",
    "\n",
    "| rtol | Avg. $C_d$ | $\\Delta C_d / C_d$ | Avg. $C_l$ | $\\Delta C_l / C_l$ |\n",
    "|:-:|:-:|:-:|:-:|:-:|\n",
    "| $10^{-5}$ | $1.2351$ |  | $1.9936$ |  |\n",
    "| $10^{-8}$ | $1.2354$ | $+0.02\\%$ | $1.9914$ | $-0.11\\%$ |\n",
    "\n",
    "The force signals from the two computations closely match each others and the relative difference in the time-averaged force coefficient is negligible."
   ]
  },
  {
   "cell_type": "markdown",
   "metadata": {},
   "source": [
    "---\n",
    "## Temporal independence\n",
    "---"
   ]
  },
  {
   "cell_type": "markdown",
   "metadata": {},
   "source": [
    "The PetIBM runs reported in our manuscript use a time-increment $\\Delta t=4\\cdot 10^{-4}$ (we computed $200$k time-steps to obtain the solution up to $80$ time-units), a value that Krishnan et al. (2014) used.\n",
    "Here, we also report the results when halving the time-increment.\n",
    "\n",
    "The next cell executes a Python script name `plotForceCoefficientsCompareDt.py` located in the folder `temporalIndependence`.\n",
    "The script requires the numerical solution from two simulations whose input files are provided in the sub-folders `dt0.0004` and `dt0.0002`.\n",
    "A `README` is also present in the folder `temporalIndependence` with details on how to run the simulations.\n",
    "In case you do not have the solutions, you can skip the next cell and jump to the one after to visualize the instantaneous force coefficients we obtained."
   ]
  },
  {
   "cell_type": "code",
   "execution_count": null,
   "metadata": {
    "collapsed": false
   },
   "outputs": [],
   "source": [
    "# WARNING: execute this cell if you the numerical solutions\n",
    "script = os.path.join('temporalIndependence',\n",
    "                      'plotForceCoefficientsCompareDt.py')\n",
    "%run $script"
   ]
  },
  {
   "cell_type": "code",
   "execution_count": null,
   "metadata": {
    "collapsed": false
   },
   "outputs": [],
   "source": [
    "Image(os.path.join('temporalIndependence',\n",
    "                   'forceCoefficientsCompareDt.png'))"
   ]
  },
  {
   "cell_type": "markdown",
   "metadata": {},
   "source": [
    "If we average the force coefficients between 32 and 64 time-units, we get:\n",
    "\n",
    "| $\\Delta t$ | Avg. $C_d$ | $\\Delta C_d / C_d$ | Avg. $C_l$ | $\\Delta C_l / C_l$ |\n",
    "|:-:|:-:|:-:|:-:|:-:|\n",
    "| $0.0004$ | $1.2351$ |  | $1.9936$ |  |\n",
    "| $0.0002$ | $1.2403$ | $+0.42\\%$ | $2.0039$ | $+0.52\\%$ |\n",
    "\n",
    "The force signals from the two computations closely match each others and the relative difference in the time-averaged force coefficient is less than $1\\%$.\n",
    "We believe the temporal discretization error is small enough."
   ]
  },
  {
   "cell_type": "markdown",
   "metadata": {},
   "source": [
    "---\n",
    "## Grid independence\n",
    "---"
   ]
  },
  {
   "cell_type": "markdown",
   "metadata": {},
   "source": [
    "PetIBM and cuIBM implements the same discrete formulation of the immersed-boundary projection method (Taira and Colonius, 2007).\n",
    "Still, the force coefficients at Reynolds number 2000 and angle-of-attack 35 degrees differ between the two software.\n",
    "This failure in replicating the lift-enhancement at angle-of-attack 35 degrees led us to replicate the grid-independence study from Krishnan et al. (2014) with cuIBM.\n",
    "\n",
    "We computed the numerical solution on two meshes:\n",
    "* one with a characteristic grid-spacing of $0.004c$ in the vicinity of the bluff-body ($c$ being the chord-length of the body),\n",
    "* one with a characteristic grid-spacing $1.5$ bigger ($0.006c$).\n",
    "Outside the uniform region, the gridlines are stretched to the domain boundaries with a constant ratio of $1.01$.\n",
    "\n",
    "The next cell execute a Python script named `plotForceCoefficientsCompareMeshes.py` located in the folder `gridIndependence`.\n",
    "The script requires the numerical solution on the two meshes.\n",
    "We provide all necessary input files to re-run these simulations in the sub-folders `h0.006` and `h0.004`.\n",
    "In addition, a `README` file details the procedure to run the problems.\n",
    "In case, you do not have the numerical solutions, you can skip the next cell and execute directly the following one to display a figure of the instantaneous force coefficients we obtained."
   ]
  },
  {
   "cell_type": "code",
   "execution_count": null,
   "metadata": {
    "collapsed": false
   },
   "outputs": [],
   "source": [
    "# WARNING: execute this cell if you the numerical solutions\n",
    "script = os.path.join('gridIndependence',\n",
    "                      'plotForceCoefficientsCompareMeshes.py')\n",
    "%run $script"
   ]
  },
  {
   "cell_type": "code",
   "execution_count": null,
   "metadata": {
    "collapsed": false
   },
   "outputs": [],
   "source": [
    "Image(os.path.join('gridIndependence',\n",
    "                   'forceCoefficientsCompareMeshes.png'))"
   ]
  },
  {
   "cell_type": "markdown",
   "metadata": {},
   "source": [
    "If we average the force coefficients between 32 and 64 time-units, we get:\n",
    "\n",
    "| $h$ | Avg. $C_d$ | $\\Delta C_d / C_d$ | Avg. $C_l$ | $\\Delta C_l / C_l$ |\n",
    "|:-:|:-:|:-:|:-:|:-:|\n",
    "| $0.004$ | $1.2351$ |  | $1.9936$ |  |\n",
    "| $0.006$ | $1.2982$ | $+5.11\\%$ | $2.1511$ | $+7.90\\%$ |\n",
    "\n",
    "Interestingly, the lift coefficient obtained with the coarser mesh does not exhibit a drop in the mean value, which affects the averaged value in the time-range chosen.\n",
    "Obviously, if we had chosen another range (e.g., between 30 and 30 time-units), the conclusions would be different.\n",
    "\n",
    "So far, with PetIBM, we are not able to provide evidence of grid-independence in the time-averaged lift coefficient at Reynolds number 2000 and angle-of-attack."
   ]
  },
  {
   "cell_type": "markdown",
   "metadata": {},
   "source": [
    "---\n",
    "#### References:\n",
    "\n",
    "* Krishnan, A., Socha, J. J., Vlachos, P. P., & Barba, L. A. (2014). Lift and wakes of flying snakes. Physics of Fluids (1994-present), 26(3), 031901.\n",
    "* Taira, K., & Colonius, T. (2007). The immersed boundary method: a projection approach. Journal of Computational Physics, 225(2), 2118-2137.\n",
    "\n",
    "---"
   ]
  },
  {
   "cell_type": "code",
   "execution_count": null,
   "metadata": {
    "collapsed": true
   },
   "outputs": [],
   "source": []
  }
 ],
 "metadata": {
  "hide_input": true,
  "kernelspec": {
   "display_name": "Python 2",
   "language": "python",
   "name": "python2"
  },
  "language_info": {
   "codemirror_mode": {
    "name": "ipython",
    "version": 2
   },
   "file_extension": ".py",
   "mimetype": "text/x-python",
   "name": "python",
   "nbconvert_exporter": "python",
   "pygments_lexer": "ipython2",
   "version": "2.7.12"
  }
 },
 "nbformat": 4,
 "nbformat_minor": 0
}
