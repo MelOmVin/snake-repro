{
 "cells": [
  {
   "cell_type": "markdown",
   "metadata": {
    "collapsed": true
   },
   "source": [
    "# 20150805_flyingSnake2dRe1000AoA25_velocityCGPoissonBiCGStab"
   ]
  },
  {
   "cell_type": "code",
   "execution_count": null,
   "metadata": {
    "collapsed": true
   },
   "outputs": [],
   "source": [
    "import os\n",
    "import collections\n",
    "\n",
    "import ipywidgets\n",
    "\n",
    "from snake import miscellaneous"
   ]
  },
  {
   "cell_type": "markdown",
   "metadata": {},
   "source": [
    "---"
   ]
  },
  {
   "cell_type": "markdown",
   "metadata": {},
   "source": [
    "### Objectives of the simulation\n",
    "\n",
    "Flying-snake at Re=1000 and angle-of-attack 25deg.\n",
    "\n",
    "Run the snake case with PetIBM (IBPM) to compare with cuIBM results. We are using the same input parameters (except that we use bi-CG stabilized to solve the modified Poisson system)."
   ]
  },
  {
   "cell_type": "markdown",
   "metadata": {},
   "source": [
    "---"
   ]
  },
  {
   "cell_type": "markdown",
   "metadata": {},
   "source": [
    "### General information\n",
    "\n",
    "* code: `PetIBM` (`SHA 538d723e5020350892df197b72af0f69c44d9988`)\n",
    "* `PETSC-3.5.2` / `OpenMPI-1.8` / `GCC-4.9.2`\n",
    "* submission date: 2015/08/05 (mesnardo)\n",
    "* running date: 2015/08/05\n",
    "* machine: `Colonial One` (short queue / n=32 processes)\n",
    "* directory: `phantom:/home/mesnardo/simulations_PetIBM/flyingSnake/2d/cuibmGrid/velocityCGPoissonBiCGStab/flyingSnake2dRe1000AoA25_20150805`\n",
    "* solution directory: `theo:/tank/mesnardo/simulations_PetIBM/flyingSnake/2d/cuibmGrid/velocityCGPoissonBiCGStab/flyingSnake2dRe1000AoA25_20150805`"
   ]
  },
  {
   "cell_type": "code",
   "execution_count": null,
   "metadata": {
    "collapsed": true
   },
   "outputs": [],
   "source": [
    "directory = '{}/simulations_PetIBM/flyingSnake/2d/cuibmGrid/velocityCGPoissonBiCGStab/flyingSnake2dRe1000AoA25_20150805'.format(os.environ['HOME'])\n",
    "os.chdir(directory)"
   ]
  },
  {
   "cell_type": "markdown",
   "metadata": {},
   "source": [
    "---"
   ]
  },
  {
   "cell_type": "markdown",
   "metadata": {},
   "source": [
    "### Computational domain and mesh\n",
    "\n",
    "Those are the same parameters than Krishnan et al. (2014)."
   ]
  },
  {
   "cell_type": "code",
   "execution_count": null,
   "metadata": {
    "collapsed": false
   },
   "outputs": [],
   "source": [
    "domain_info = 'cartesianMesh.yaml'\n",
    "%cat $domain_info"
   ]
  },
  {
   "cell_type": "markdown",
   "metadata": {},
   "source": [
    "---"
   ]
  },
  {
   "cell_type": "markdown",
   "metadata": {},
   "source": [
    "### Boundary conditions"
   ]
  },
  {
   "cell_type": "code",
   "execution_count": null,
   "metadata": {
    "collapsed": false
   },
   "outputs": [],
   "source": [
    "boundary_info = 'flowDescription.yaml'\n",
    "%cat $boundary_info"
   ]
  },
  {
   "cell_type": "markdown",
   "metadata": {},
   "source": [
    "---"
   ]
  },
  {
   "cell_type": "markdown",
   "metadata": {},
   "source": [
    "### Simulation parameters"
   ]
  },
  {
   "cell_type": "code",
   "execution_count": null,
   "metadata": {
    "collapsed": false
   },
   "outputs": [],
   "source": [
    "simulation_info = 'simulationParameters.yaml'\n",
    "%cat $simulation_info"
   ]
  },
  {
   "cell_type": "markdown",
   "metadata": {},
   "source": [
    "---"
   ]
  },
  {
   "cell_type": "markdown",
   "metadata": {},
   "source": [
    "### Running the case\n",
    "\n",
    "To submit the simulation on Colonial One:\n",
    "    > sbatch runPetIBM2dColonialOne.sh"
   ]
  },
  {
   "cell_type": "markdown",
   "metadata": {},
   "source": [
    "---"
   ]
  },
  {
   "cell_type": "markdown",
   "metadata": {},
   "source": [
    "### Post-processing\n",
    "\n",
    "We computed 80 non-dimensional time-units in about 44 hours."
   ]
  },
  {
   "cell_type": "markdown",
   "metadata": {},
   "source": [
    "#### Forces"
   ]
  },
  {
   "cell_type": "code",
   "execution_count": null,
   "metadata": {
    "collapsed": false
   },
   "outputs": [],
   "source": [
    "script = 'scripts/plotForceCoefficients.py'\n",
    "%run $script"
   ]
  },
  {
   "cell_type": "code",
   "execution_count": null,
   "metadata": {
    "collapsed": false
   },
   "outputs": [],
   "source": [
    "script = 'scripts/plotForceCoefficientsCompareKrishnanEtAl2014.py'\n",
    "%run $script"
   ]
  },
  {
   "cell_type": "code",
   "execution_count": null,
   "metadata": {
    "collapsed": false
   },
   "outputs": [],
   "source": [
    "figures = collections.OrderedDict()\n",
    "figures['present'] = 'images/forceCoefficients.png'\n",
    "figures['present + Krishnan et al. (2014)'] = 'images/forceCoefficientsCompareKrishnanEtAl2014.png'\n",
    "ipywidgets.interact(miscellaneous.display_image, figure=figures);"
   ]
  },
  {
   "cell_type": "markdown",
   "metadata": {},
   "source": [
    "The forces acting on the snake reach a steady periodic regime.\n",
    "\n",
    "We notice a phase difference between in the instantaneous force coefficients between our results and Krishnan et al. (2014)."
   ]
  },
  {
   "cell_type": "markdown",
   "metadata": {},
   "source": [
    "#### Vorticity field"
   ]
  },
  {
   "cell_type": "code",
   "execution_count": null,
   "metadata": {
    "collapsed": false
   },
   "outputs": [],
   "source": [
    "run = False\n",
    "script = 'scripts/plotVorticity.py'\n",
    "if run:\n",
    "    %run $script"
   ]
  },
  {
   "cell_type": "code",
   "execution_count": null,
   "metadata": {
    "collapsed": false
   },
   "outputs": [],
   "source": [
    "images = 'images/vorticity_-2.00_-5.00_15.00_5.00'\n",
    "miscellaneous.displayer(images)"
   ]
  },
  {
   "cell_type": "markdown",
   "metadata": {},
   "source": [
    "Vorticity field: vortices are aligned and follow a path that is slightly obique towards the bottom. Further down the wake (about 9 chord-lengths behind the snake), there is a branch: negative vortices are on the upper part of the wake while positive ones remain on the lower part of the wake. Close to the outlet boundary vortices start merging together. The process of branching and merging forms a kind of \"bubble\"."
   ]
  },
  {
   "cell_type": "code",
   "execution_count": null,
   "metadata": {
    "collapsed": false
   },
   "outputs": [],
   "source": [
    "run = False\n",
    "script = 'scripts/plotVorticitySnake.py'\n",
    "if run:\n",
    "    %run $script"
   ]
  },
  {
   "cell_type": "code",
   "execution_count": null,
   "metadata": {
    "collapsed": false
   },
   "outputs": [],
   "source": [
    "images = 'images/vorticity_-0.75_-1.00_1.50_1.00'\n",
    "miscellaneous.displayer(images)"
   ]
  },
  {
   "cell_type": "code",
   "execution_count": null,
   "metadata": {
    "collapsed": true
   },
   "outputs": [],
   "source": []
  }
 ],
 "metadata": {
  "hide_input": true,
  "kernelspec": {
   "display_name": "Python 2",
   "language": "python",
   "name": "python2"
  },
  "language_info": {
   "codemirror_mode": {
    "name": "ipython",
    "version": 2
   },
   "file_extension": ".py",
   "mimetype": "text/x-python",
   "name": "python",
   "nbconvert_exporter": "python",
   "pygments_lexer": "ipython2",
   "version": "2.7.11"
  }
 },
 "nbformat": 4,
 "nbformat_minor": 0
}
