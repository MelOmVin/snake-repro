{
 "cells": [
  {
   "cell_type": "markdown",
   "metadata": {
    "collapsed": true
   },
   "source": [
    "# 2D flying-snake at Re=2000 and AoA=35deg (exact markers)"
   ]
  },
  {
   "cell_type": "code",
   "execution_count": 1,
   "metadata": {
    "collapsed": true
   },
   "outputs": [],
   "source": [
    "import os\n",
    "import sys\n",
    "import collections\n",
    "\n",
    "import ipywidgets\n",
    "\n",
    "import snake\n",
    "from snake import miscellaneous\n",
    "from snake.petibm.simulation import PetIBMSimulation\n",
    "from snake.cuibm.simulation import CuIBMSimulation"
   ]
  },
  {
   "cell_type": "code",
   "execution_count": 2,
   "metadata": {
    "collapsed": false
   },
   "outputs": [
    {
     "name": "stdout",
     "output_type": "stream",
     "text": [
      "Python version: 2.7.11 |Anaconda 2.5.0 (64-bit)| (default, Dec  6 2015, 18:08:32) \n",
      "[GCC 4.4.7 20120313 (Red Hat 4.4.7-1)]\n",
      "snake version:0.1\n"
     ]
    }
   ],
   "source": [
    "print('Python version: ' + sys.version)\n",
    "print('snake version:' + snake.__version__)"
   ]
  },
  {
   "cell_type": "markdown",
   "metadata": {},
   "source": [
    "---"
   ]
  },
  {
   "cell_type": "markdown",
   "metadata": {},
   "source": [
    "### Description\n",
    "\n",
    "Flying-snake at Reynolds number 2000 and angle-of-attack 35 degrees.\n",
    "\n",
    "We found that the coordinates of the Lagrangian markers were not identical to those used in Krishnan et al. (2014).\n",
    "In our previous simulations with PetIBM, the boundary was slightly shifted over a disctance that is less than 1 cell-width (< 0.004).\n",
    "This happened because we rotated the geometry around its center of mass while Krishnan et al. (2014) did the rotation around the origin (0,0).\n",
    "\n",
    "We would like to see how, this displacement in the Lagragian markers affects the numerical solution."
   ]
  },
  {
   "cell_type": "markdown",
   "metadata": {},
   "source": [
    "---"
   ]
  },
  {
   "cell_type": "markdown",
   "metadata": {},
   "source": [
    "### General information\n",
    "\n",
    "* software: `PetIBM`\n",
    "* version: branch `master`, tag `snake-repro-2`\n",
    "* dependencies: `PETSc-3.5.2`, `OpenMPI-1.8`, and `GCC-4.9.2`\n",
    "* submission date: 2016/04/26 (mesnardo)\n",
    "* running date: 2016/04/27\n",
    "* machine: `Colonial One` (short queue, 32 processes, 2 nodes)"
   ]
  },
  {
   "cell_type": "code",
   "execution_count": null,
   "metadata": {
    "collapsed": false
   },
   "outputs": [],
   "source": [
    "simulation = PetIBMSimulation(description='PetIBM')"
   ]
  },
  {
   "cell_type": "markdown",
   "metadata": {},
   "source": [
    "---"
   ]
  },
  {
   "cell_type": "markdown",
   "metadata": {},
   "source": [
    "### Computational domain and mesh\n",
    "\n",
    "We use the same input file than Krishnan et al. (2014)."
   ]
  },
  {
   "cell_type": "code",
   "execution_count": null,
   "metadata": {
    "collapsed": false
   },
   "outputs": [],
   "source": [
    "domain_info = os.path.join(simulation.directory, 'cartesianMesh.yaml')\n",
    "%cat $domain_info"
   ]
  },
  {
   "cell_type": "markdown",
   "metadata": {},
   "source": [
    "---"
   ]
  },
  {
   "cell_type": "markdown",
   "metadata": {},
   "source": [
    "### Boundary conditions\n",
    "\n",
    "We use the same input file than Krishnan et al. (2014)."
   ]
  },
  {
   "cell_type": "code",
   "execution_count": null,
   "metadata": {
    "collapsed": false
   },
   "outputs": [],
   "source": [
    "boundary_info = os.path.join(simulation.directory, 'flowDescription.yaml')\n",
    "%cat $boundary_info"
   ]
  },
  {
   "cell_type": "markdown",
   "metadata": {},
   "source": [
    "---"
   ]
  },
  {
   "cell_type": "markdown",
   "metadata": {},
   "source": [
    "### Simulation parameters"
   ]
  },
  {
   "cell_type": "code",
   "execution_count": null,
   "metadata": {
    "collapsed": false
   },
   "outputs": [],
   "source": [
    "simulation_info = os.path.join(simulation.directory, 'simulationParameters.yaml')\n",
    "%cat $simulation_info\n",
    "solvers_info = os.path.join(simulation.directory, 'solversPetscOptions.info')\n",
    "%cat $solvers_info"
   ]
  },
  {
   "cell_type": "markdown",
   "metadata": {},
   "source": [
    "---"
   ]
  },
  {
   "cell_type": "markdown",
   "metadata": {},
   "source": [
    "### Running the case\n",
    "\n",
    "This simulation was run on our university HPC cluster, Colonial One.\n",
    "\n",
    "To run the simulation (from the simulation directory):\n",
    "    > mpirun -n <nprocs> <path to petibm2d executable> \\\n",
    "            -directory <simulation directory> \\\n",
    "            -log_summary"
   ]
  },
  {
   "cell_type": "markdown",
   "metadata": {},
   "source": [
    "---"
   ]
  },
  {
   "cell_type": "markdown",
   "metadata": {},
   "source": [
    "### Post-processing\n",
    "\n",
    "We computed 80 non-dimensional time-units in 37.5 hours."
   ]
  },
  {
   "cell_type": "markdown",
   "metadata": {},
   "source": [
    "#### Forces"
   ]
  },
  {
   "cell_type": "code",
   "execution_count": null,
   "metadata": {
    "collapsed": false
   },
   "outputs": [],
   "source": [
    "simulation.read_forces()\n",
    "simulation.get_mean_forces(limits=[32.0, 64.0])\n",
    "simulation.get_strouhal(limits=[32.0, 64.0], order=200)\n",
    "\n",
    "simulation.plot_forces(display_coefficients=True, \n",
    "                       coefficient=2.0,\n",
    "                       display_extrema=True, order=200,\n",
    "                       limits=(0.0, 80.0, 0.0, 3.0),\n",
    "                       style='snakeReproducibility',\n",
    "                       save_name='forceCoefficients')\n",
    "dataframe = simulation.create_dataframe_forces(display_strouhal=True,\n",
    "                                               display_coefficients=True,\n",
    "                                               coefficient=2.0)"
   ]
  },
  {
   "cell_type": "code",
   "execution_count": null,
   "metadata": {
    "collapsed": false,
    "run_control": {
     "marked": false
    }
   },
   "outputs": [],
   "source": [
    "krishnan = CuIBMSimulation(description='Krishnan et al. (2014)')\n",
    "krishnan.read_forces(file_path=os.path.join(os.environ['SNAKE'],\n",
    "                                            'resources',\n",
    "                                            'flyingSnake2d_cuibm_anush',\n",
    "                                            'flyingSnake2dRe2000AoA35',\n",
    "                                            'forces'))\n",
    "krishnan.get_mean_forces(limits=[32.0, 64.0])\n",
    "krishnan.get_strouhal(limits=[32.0, 64.0], order=200)\n",
    "\n",
    "simulation.plot_forces(display_coefficients=True, \n",
    "                       coefficient=2.0,\n",
    "                       display_extrema=True, order=200,\n",
    "                       limits=(0.0, 80.0, 0.0, 3.0),\n",
    "                       other_simulations=krishnan, \n",
    "                       other_coefficients=2.0,\n",
    "                       style='snakeReproducibility',\n",
    "                       save_name='forceCoefficientsCompareKrishnanEtAl2014')\n",
    "dataframe2 = krishnan.create_dataframe_forces(display_strouhal=True,\n",
    "                                              display_coefficients=True,\n",
    "                                              coefficient=2.0)"
   ]
  },
  {
   "cell_type": "code",
   "execution_count": null,
   "metadata": {
    "collapsed": false
   },
   "outputs": [],
   "source": [
    "other = PetIBMSimulation(description='PetIBM (shifted markers)',\n",
    "                         directory=os.path.relpath('../../shiftedMarkers/Re2000AoA35',\n",
    "                                                   simulation.directory))\n",
    "other.read_forces()\n",
    "other.get_mean_forces(limits=[32.0, 64.0])\n",
    "other.get_strouhal(limits=[32.0, 64.0], order=200)\n",
    "\n",
    "simulation.plot_forces(display_coefficients=True,\n",
    "                       coefficient=2.0,\n",
    "                       display_extrema=True, order=200,\n",
    "                       limits=(0.0, 80.0, 0.0, 3.0),\n",
    "                       other_simulations=other,\n",
    "                       other_coefficients=2.0,\n",
    "                       save_name='forceCoefficientsCompareShiftedMarkers')\n",
    "dataframe3 = other.create_dataframe_forces(display_strouhal=True,\n",
    "                                           display_coefficients=True,\n",
    "                                           coefficient=2.0)"
   ]
  },
  {
   "cell_type": "code",
   "execution_count": null,
   "metadata": {
    "collapsed": false
   },
   "outputs": [],
   "source": [
    "dataframes = dataframe.append([dataframe2, dataframe3])\n",
    "print(dataframes)"
   ]
  },
  {
   "cell_type": "code",
   "execution_count": null,
   "metadata": {
    "collapsed": false
   },
   "outputs": [],
   "source": [
    "images_directory = os.path.join(simulation.directory,\n",
    "                                'images')\n",
    "figures = collections.OrderedDict()\n",
    "figures['present'] = os.path.join(images_directory,\n",
    "                                  'forceCoefficients.png')\n",
    "figures['present + Krishnan et al. (2014)'] = os.path.join(images_directory,\n",
    "                                                           'forceCoefficientsCompareKrishnanEtAl2014.png')\n",
    "figures['present + shifted markers'] = os.path.join(images_directory,\n",
    "                                                    'forceCoefficientsCompareShiftedMarkers.png')\n",
    "ipywidgets.interact(miscellaneous.display_image, figure=figures);"
   ]
  },
  {
   "cell_type": "markdown",
   "metadata": {},
   "source": [
    "#### Vorticity field"
   ]
  },
  {
   "cell_type": "code",
   "execution_count": null,
   "metadata": {
    "collapsed": true
   },
   "outputs": [],
   "source": [
    "simulation.read_grid()\n",
    "time_steps = simulation.get_time_steps()\n",
    "for time_step in time_steps:\n",
    "    simulation.read_fields('vorticity', time_step)\n",
    "    simulation.plot_contour('vorticity',\n",
    "                            field_range=[-5.0, 5.0, 101],\n",
    "                            filled_contour=True,\n",
    "                            view=[-2.0, -5.0, 15.0, 5.0],\n",
    "                            width=8.0,\n",
    "                            time_increment=0.0004,\n",
    "                            style='snakeReproducibility')"
   ]
  },
  {
   "cell_type": "code",
   "execution_count": null,
   "metadata": {
    "collapsed": false
   },
   "outputs": [],
   "source": [
    "miscellaneous.displayer(os.path.join(simulation.directory, \n",
    "                                     'images', \n",
    "                                     'vorticity_-2.00_-5.00_15.00_5.00'))"
   ]
  },
  {
   "cell_type": "code",
   "execution_count": null,
   "metadata": {
    "collapsed": true
   },
   "outputs": [],
   "source": []
  }
 ],
 "metadata": {
  "hide_input": true,
  "kernelspec": {
   "display_name": "Python 2",
   "language": "python",
   "name": "python2"
  },
  "language_info": {
   "codemirror_mode": {
    "name": "ipython",
    "version": 2
   },
   "file_extension": ".py",
   "mimetype": "text/x-python",
   "name": "python",
   "nbconvert_exporter": "python",
   "pygments_lexer": "ipython2",
   "version": "2.7.11"
  }
 },
 "nbformat": 4,
 "nbformat_minor": 0
}
