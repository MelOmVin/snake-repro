{
 "cells": [
  {
   "cell_type": "markdown",
   "metadata": {
    "collapsed": true
   },
   "source": [
    "# 2D flying-snake at Re=1000 and AoA=40deg (snappyHexMesh + OpenFOAM-2.3.0)"
   ]
  },
  {
   "cell_type": "code",
   "execution_count": 1,
   "metadata": {
    "collapsed": true
   },
   "outputs": [],
   "source": [
    "import os\n",
    "import sys\n",
    "import collections\n",
    "\n",
    "import ipywidgets\n",
    "\n",
    "import snake\n",
    "from snake import miscellaneous\n",
    "from snake.openfoam.simulation import OpenFOAMSimulation\n",
    "from snake.cuibm.simulation import CuIBMSimulation"
   ]
  },
  {
   "cell_type": "code",
   "execution_count": 2,
   "metadata": {
    "collapsed": false
   },
   "outputs": [
    {
     "name": "stdout",
     "output_type": "stream",
     "text": [
      "Python version: 2.7.11 |Anaconda 2.5.0 (64-bit)| (default, Dec  6 2015, 18:08:32) \n",
      "[GCC 4.4.7 20120313 (Red Hat 4.4.7-1)]\n",
      "snake version:0.1\n"
     ]
    }
   ],
   "source": [
    "print('Python version: ' + sys.version)\n",
    "print('snake version:' + snake.__version__)"
   ]
  },
  {
   "cell_type": "markdown",
   "metadata": {},
   "source": [
    "---"
   ]
  },
  {
   "cell_type": "markdown",
   "metadata": {},
   "source": [
    "### Description\n",
    "\n",
    "Flying-snake at Re=1000 and angle-of-attack 40deg.\n",
    "\n",
    "The mesh was generated with the OpenFOAM mesh utility, snappyHexMesh and contains about 3.4-million cells."
   ]
  },
  {
   "cell_type": "markdown",
   "metadata": {},
   "source": [
    "---"
   ]
  },
  {
   "cell_type": "markdown",
   "metadata": {},
   "source": [
    "### General information\n",
    "\n",
    "* software: `OpenFOAM-2.3.0`\n",
    "* post-processing software: `ParaView-4.1` (included in `OpenFOAM-2.3.1`)\n",
    "* submission date: 2015/11/10 (mesnardo)\n",
    "* running date: 2015/11/10\n",
    "* machine: `Colonial One` (short queue, 32 processes, 2 nodes)"
   ]
  },
  {
   "cell_type": "code",
   "execution_count": null,
   "metadata": {
    "collapsed": false
   },
   "outputs": [],
   "source": [
    "simulation = OpenFOAMSimulation(description='IcoFOAM')"
   ]
  },
  {
   "cell_type": "markdown",
   "metadata": {},
   "source": [
    "---"
   ]
  },
  {
   "cell_type": "markdown",
   "metadata": {},
   "source": [
    "### Computational domain and mesh\n",
    "\n",
    "* `snappyHexMesh`, 3.4M cells (mostly hexahedra)\n",
    "* domain: `[-15, 15]x[-15, 15]` (cell-width 30/120=0.25)\n",
    "* refinement box 1: `[-1, 10]x[-2, 2]` (cell-width 0.25/2^6=0.004)\n",
    "* refinement box 2: `[-2, 15]x[-4, 4]` (cell-width 0.25/2^4=0.016)\n",
    "\n",
    "The mesh was generated using `features` for refinement boxes (`.obj` files containing the box coordinates located in the folder `constant/triSurface`).\n",
    "\n",
    "Because `snappyHexMesh` is a 3D meshing tool, we only try to refine as close as possible from the `front` patch. Then, we only keep `front` and extrude in the z-direction, to get a 3D mesh with only one cell in the z-direction."
   ]
  },
  {
   "cell_type": "markdown",
   "metadata": {},
   "source": [
    "---"
   ]
  },
  {
   "cell_type": "markdown",
   "metadata": {},
   "source": [
    "### Boundary conditions"
   ]
  },
  {
   "cell_type": "code",
   "execution_count": null,
   "metadata": {
    "collapsed": false
   },
   "outputs": [],
   "source": [
    "boundary_info = '0/U'\n",
    "%cat $boundary_info\n",
    "boundary_info = '0/p'\n",
    "%cat $boundary_info"
   ]
  },
  {
   "cell_type": "markdown",
   "metadata": {},
   "source": [
    "---"
   ]
  },
  {
   "cell_type": "markdown",
   "metadata": {},
   "source": [
    "### Simulation parameters"
   ]
  },
  {
   "cell_type": "code",
   "execution_count": null,
   "metadata": {
    "collapsed": false
   },
   "outputs": [],
   "source": [
    "simulation_info = 'system/controlDict'\n",
    "%cat $simulation_info\n",
    "simulation_info = 'system/fvSolution'\n",
    "%cat $simulation_info\n",
    "simulation_info = 'system/fvScheme'\n",
    "%cat $simulation_info"
   ]
  },
  {
   "cell_type": "markdown",
   "metadata": {},
   "source": [
    "---"
   ]
  },
  {
   "cell_type": "markdown",
   "metadata": {},
   "source": [
    "### Running the case\n",
    "\n",
    "To generate the mesh:\n",
    "    > runSnappyHexMesh.sh\n",
    "    \n",
    "To run the case:\n",
    "    > mpirun -n <nprocs> icoFOAM -parallel > log.icoFoam\n",
    "\n",
    "To reconstruct the parallel solution:\n",
    "    > reconstructPar\n",
    "\n",
    "To generate the vorticity variable:\n",
    "    > vorticity"
   ]
  },
  {
   "cell_type": "markdown",
   "metadata": {},
   "source": [
    "---"
   ]
  },
  {
   "cell_type": "markdown",
   "metadata": {},
   "source": [
    "### Post-processing\n",
    "\n",
    "We computed 100 non-dimensional time-units in about 23h."
   ]
  },
  {
   "cell_type": "markdown",
   "metadata": {},
   "source": [
    "#### Forces"
   ]
  },
  {
   "cell_type": "code",
   "execution_count": null,
   "metadata": {
    "collapsed": false
   },
   "outputs": [],
   "source": [
    "simulation.read_forces(display_coefficients=True)\n",
    "simulation.get_mean_forces(limits=[32.0, 64.0])\n",
    "simulation.get_strouhal(limits=[32.0, 64.0], order=200)\n",
    "simulation.plot_forces(display_coefficients=True,\n",
    "                       display_extrema=True, order=200,\n",
    "                       limits=(0.0, 80.0, 0.0, 3.0),\n",
    "                       style='snakeReproducibility',\n",
    "                       save_name='forceCoefficients')\n",
    "dataframe = simulation.create_dataframe_forces(display_strouhal=True,\n",
    "                                               display_coefficients=True)"
   ]
  },
  {
   "cell_type": "code",
   "execution_count": null,
   "metadata": {
    "collapsed": false
   },
   "outputs": [],
   "source": [
    "krishnan = CuIBMSimulation(description='Krishnan et al. (2014)')\n",
    "krishnan.read_forces(file_path=os.path.join(os.environ['SNAKE'],\n",
    "                                            'resources',\n",
    "                                            'flyingSnake2d_cuibm_anush',\n",
    "                                            'flyingSnake2dRe1000AoA40',\n",
    "                                            'forces'))\n",
    "krishnan.get_mean_forces(limits=[32.0, 64.0])\n",
    "krishnan.get_strouhal(limits=[32.0, 64.0], order=200)\n",
    "simulation.plot_forces(display_coefficients=True,\n",
    "                       display_extrema=True, order=200,\n",
    "                       limits=(0.0, 80.0, 0.0, 3.0),\n",
    "                       other_simulations=krishnan,\n",
    "                       other_coefficients=2.0,\n",
    "                       style='snakeReproducibility',\n",
    "                       save_name='forceCoefficientsCompareKrishnanEtAl2014')\n",
    "dataframe2 = krishnan.create_dataframe_forces(display_strouhal=True,\n",
    "                                              display_coefficients=True,\n",
    "                                              coefficient=2.0)"
   ]
  },
  {
   "cell_type": "code",
   "execution_count": null,
   "metadata": {
    "collapsed": false
   },
   "outputs": [],
   "source": [
    "dataframes = dataframe.append(dataframe2)\n",
    "print(dataframes)"
   ]
  },
  {
   "cell_type": "code",
   "execution_count": null,
   "metadata": {
    "collapsed": false
   },
   "outputs": [],
   "source": [
    "images_directory = os.path.join(simulation.directory,\n",
    "                                'images')\n",
    "figures = collections.OrderedDict()\n",
    "figures['present'] = os.path.join(images_directory,\n",
    "                                  'forceCoefficients.png')\n",
    "figures['present + Krishnan et al. (2014)'] = os.path.join(images_directory,\n",
    "                                                           'forceCoefficientsCompareKrishnanEtAl2014.png')\n",
    "ipywidgets.interact(miscellaneous.display_image, figure=figures);"
   ]
  },
  {
   "cell_type": "markdown",
   "metadata": {},
   "source": [
    "#### Vorticity field"
   ]
  },
  {
   "cell_type": "code",
   "execution_count": null,
   "metadata": {
    "collapsed": false
   },
   "outputs": [],
   "source": [
    "simulation.plot_field_contours_paraview('vorticity',\n",
    "                                        field_range=(-5.0, 5.0),\n",
    "                                        view=(-2.0, -5.0, 15.0, 5.0),\n",
    "                                        width=600,\n",
    "                                        colormap='RdBu_r')"
   ]
  },
  {
   "cell_type": "code",
   "execution_count": null,
   "metadata": {
    "collapsed": false
   },
   "outputs": [],
   "source": [
    "miscellaneous.displayer(os.path.join(simulation.directory,\n",
    "                                     'images',\n",
    "                                     'vorticity_-2.00_-5.00_15.00_5.00'))"
   ]
  },
  {
   "cell_type": "code",
   "execution_count": null,
   "metadata": {
    "collapsed": true
   },
   "outputs": [],
   "source": []
  }
 ],
 "metadata": {
  "hide_input": true,
  "kernelspec": {
   "display_name": "Python 2",
   "language": "python",
   "name": "python2"
  },
  "language_info": {
   "codemirror_mode": {
    "name": "ipython",
    "version": 2
   },
   "file_extension": ".py",
   "mimetype": "text/x-python",
   "name": "python",
   "nbconvert_exporter": "python",
   "pygments_lexer": "ipython2",
   "version": "2.7.11"
  }
 },
 "nbformat": 4,
 "nbformat_minor": 0
}
