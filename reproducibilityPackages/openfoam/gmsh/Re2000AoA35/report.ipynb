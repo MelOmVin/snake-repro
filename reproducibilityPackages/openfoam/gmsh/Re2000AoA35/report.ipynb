{
 "cells": [
  {
   "cell_type": "markdown",
   "metadata": {
    "collapsed": true
   },
   "source": [
    "# 2D flying-snake at Re=2000 and AoA=35deg (gmsh + OpenFOAM-2.0.1)"
   ]
  },
  {
   "cell_type": "markdown",
   "metadata": {},
   "source": [
    "---"
   ]
  },
  {
   "cell_type": "markdown",
   "metadata": {},
   "source": [
    "This notebook heavily relies on the Python package `snake`, available on [GitHub](https://github.com/mesnardo/snake).\n",
    "`snake` was written to post-process and compare the numerical solution from 4 different softwares ([`cuIBM`](https://github.com/barbagroup/cuIBM), [`PetIBM`](https://github.com/barbagroup/PetIBM), [`IBAMR`](https://github.com/IBAMR/IBAMR), and [`OpenFOAM`](http://www.openfoam.com/))."
   ]
  },
  {
   "cell_type": "code",
   "execution_count": 1,
   "metadata": {
    "collapsed": true
   },
   "outputs": [],
   "source": [
    "import os\n",
    "import sys\n",
    "import collections\n",
    "\n",
    "import ipywidgets\n",
    "\n",
    "import snake\n",
    "from snake import miscellaneous\n",
    "from snake.openfoam.simulation import OpenFOAMSimulation\n",
    "from snake.cuibm.simulation import CuIBMSimulation"
   ]
  },
  {
   "cell_type": "code",
   "execution_count": 2,
   "metadata": {
    "collapsed": false
   },
   "outputs": [
    {
     "name": "stdout",
     "output_type": "stream",
     "text": [
      "Python version: 2.7.11 |Anaconda 2.5.0 (64-bit)| (default, Dec  6 2015, 18:08:32) \n",
      "[GCC 4.4.7 20120313 (Red Hat 4.4.7-1)]\n",
      "snake version:0.1\n"
     ]
    }
   ],
   "source": [
    "print('Python version: ' + sys.version)\n",
    "print('snake version:' + snake.__version__)"
   ]
  },
  {
   "cell_type": "markdown",
   "metadata": {},
   "source": [
    "---"
   ]
  },
  {
   "cell_type": "markdown",
   "metadata": {},
   "source": [
    "### Description\n",
    "\n",
    "We aim to compute the flow around a snake cross-section at Reynolds number 2000 and angle-of-attack 35deg using IcoFOAM, the laminar incompressible solver of OpenFOAM.\n",
    "\n",
    "The mesh was generated with the free software GMSH and contains about 700k triangular cells."
   ]
  },
  {
   "cell_type": "markdown",
   "metadata": {},
   "source": [
    "---"
   ]
  },
  {
   "cell_type": "markdown",
   "metadata": {},
   "source": [
    "### General information\n",
    "\n",
    "* software: `OpenFOAM-2.0.1`\n",
    "* post-processing software: `ParaView-4.1` (included in `OpenFOAM-2.3.1`)\n",
    "* submission date: 2012/12/26 (mesnardo)\n",
    "* running date: 2012/12/26\n",
    "* machine: `yeager` (6 processes)"
   ]
  },
  {
   "cell_type": "code",
   "execution_count": null,
   "metadata": {
    "collapsed": false
   },
   "outputs": [],
   "source": [
    "simulation = OpenFOAMSimulation(description='IcoFOAM (GMSH)')"
   ]
  },
  {
   "cell_type": "markdown",
   "metadata": {},
   "source": [
    "---"
   ]
  },
  {
   "cell_type": "markdown",
   "metadata": {},
   "source": [
    "### Computational domain and mesh\n",
    "\n",
    "* `GMSH`, triangular mesh, 700k cells\n",
    "* domain: `[-15,15]x[-15,15]`\n",
    "* cell characteristic-length near bluff-body: `0.004`.\n",
    "* cell characteristic-length at external boundaries: `0.1`.\n",
    "\n",
    "The mesh was generated with the GUI of GMSH.\n",
    "We set the characteristic-length of the triangle edges near the bluff-body to be the minimum cell-width used in Krishnan et al. (2014).\n",
    "The characteristic-length of the triangle edges at the external boundaries is set to 0.1.\n",
    "\n",
    "To run with IcoFOAM, the 2D mesh is extruded in the thrid-direction with length 1.0.\n",
    "We set only 1 cell in the third-direction and the front and back faces have an `empty` boundary condition.\n",
    "\n",
    "The GMSH mesh in contained in the file `snakeAoA35_mesh700k.msh`.\n",
    "\n",
    "To convert the mesh into an OpenFOAM format, run the utility (from the simulation directory):\n",
    "    > gmshToFoam"
   ]
  },
  {
   "cell_type": "markdown",
   "metadata": {},
   "source": [
    "---"
   ]
  },
  {
   "cell_type": "markdown",
   "metadata": {},
   "source": [
    "### Boundary conditions"
   ]
  },
  {
   "cell_type": "code",
   "execution_count": null,
   "metadata": {
    "collapsed": false
   },
   "outputs": [],
   "source": [
    "boundary_info = '0/U'\n",
    "%cat $boundary_info\n",
    "boundary_info = '0/p'\n",
    "%cat $boundary_info"
   ]
  },
  {
   "cell_type": "markdown",
   "metadata": {},
   "source": [
    "---"
   ]
  },
  {
   "cell_type": "markdown",
   "metadata": {},
   "source": [
    "### Simulation parameters"
   ]
  },
  {
   "cell_type": "code",
   "execution_count": null,
   "metadata": {
    "collapsed": false
   },
   "outputs": [],
   "source": [
    "simulation_info = 'system/controlDict'\n",
    "%cat $simulation_info\n",
    "simulation_info = 'system/fvSolution'\n",
    "%cat $simulation_info\n",
    "simulation_info = 'system/fvScheme'\n",
    "%cat $simulation_info"
   ]
  },
  {
   "cell_type": "markdown",
   "metadata": {},
   "source": [
    "---"
   ]
  },
  {
   "cell_type": "markdown",
   "metadata": {},
   "source": [
    "### Running the case\n",
    "\n",
    "To run the the case in parallel , we need to decompose the domain:\n",
    "    > decomposeParDict\n",
    "\n",
    "To run the case the simulation:\n",
    "    > mpirun -n <nprocs> icoFOAM -parallel > log.icoFoam\n",
    "\n",
    "To reconstruct the parallel solution:\n",
    "    > reconstructPar\n",
    "\n",
    "To generate the vorticity field at each time saved:\n",
    "    > vorticity"
   ]
  },
  {
   "cell_type": "markdown",
   "metadata": {},
   "source": [
    "---"
   ]
  },
  {
   "cell_type": "markdown",
   "metadata": {},
   "source": [
    "### Post-processing\n",
    "\n",
    "The simulation crashed after about 62.3 non-dimensional time-units because of an over-pressure at the outlet boundary condition (unphysical phenomenon that occurs every time a vortex leaves the computation domain).3\n",
    "\n",
    "The numerical solution requires about 4.7G of storage capacity."
   ]
  },
  {
   "cell_type": "markdown",
   "metadata": {},
   "source": [
    "#### Forces"
   ]
  },
  {
   "cell_type": "markdown",
   "metadata": {},
   "source": [
    "We plot the instantaneous force coefficients up to 80 time-units and compute the time-averaged values between 32 and 60 time-units."
   ]
  },
  {
   "cell_type": "code",
   "execution_count": null,
   "metadata": {
    "collapsed": false
   },
   "outputs": [],
   "source": [
    "simulation.read_forces(display_coefficients=True,\n",
    "                       force_coefficients_folder=os.path.join(simulation.directory, \n",
    "                                                              'forces'),\n",
    "                       usecols=(0, 1, 2))\n",
    "simulation.get_mean_forces(limits=[32.0, 60.0])\n",
    "simulation.get_strouhal(limits=[32.0, 60.0], order=200)\n",
    "simulation.plot_forces(display_coefficients=True,\n",
    "                       display_extrema=True, order=200,\n",
    "                       limits=(0.0, 80.0, 0.0, 3.0),\n",
    "                       style='snakeReproducibility',\n",
    "                       save_name='forceCoefficients')\n",
    "dataframe = simulation.create_dataframe_forces(display_strouhal=True,\n",
    "                                               display_coefficients=True)"
   ]
  },
  {
   "cell_type": "markdown",
   "metadata": {},
   "source": [
    "We compare the IcoFOAM results with those reported in Krishnan et al. (2014)."
   ]
  },
  {
   "cell_type": "code",
   "execution_count": null,
   "metadata": {
    "collapsed": false
   },
   "outputs": [],
   "source": [
    "krishnan = CuIBMSimulation(description='Krishnan et al. (2014)')\n",
    "krishnan.read_forces(file_path=os.path.join(os.environ['SNAKE'],\n",
    "                                            'resources',\n",
    "                                            'flyingSnake2d_cuibm_anush',\n",
    "                                            'flyingSnake2dRe2000AoA35',\n",
    "                                            'forces'))\n",
    "krishnan.get_mean_forces(limits=[32.0, 60.0])\n",
    "krishnan.get_strouhal(limits=[32.0, 60.0], order=200)\n",
    "simulation.plot_forces(display_coefficients=True,\n",
    "                       display_extrema=True, order=200,\n",
    "                       limits=(0.0, 80.0, 0.0, 3.0),\n",
    "                       other_simulations=krishnan,\n",
    "                       other_coefficients=2.0,\n",
    "                       style='snakeReproducibility',\n",
    "                       save_directory=os.path.join(simulation.directory,\n",
    "                                                   'images'),\n",
    "                       save_name='forceCoefficientsCompareKrishnanEtAl2014')\n",
    "dataframe2 = krishnan.create_dataframe_forces(display_strouhal=True,\n",
    "                                              display_coefficients=True,\n",
    "                                              coefficient=2.0)"
   ]
  },
  {
   "cell_type": "code",
   "execution_count": null,
   "metadata": {
    "collapsed": false
   },
   "outputs": [],
   "source": [
    "dataframes = dataframe.append(dataframe2)\n",
    "print(dataframes)"
   ]
  },
  {
   "cell_type": "code",
   "execution_count": null,
   "metadata": {
    "collapsed": false
   },
   "outputs": [],
   "source": [
    "images_directory = os.path.join(simulation.directory,\n",
    "                                'images')\n",
    "figures = collections.OrderedDict()\n",
    "figures['present'] = os.path.join(images_directory,\n",
    "                                  'forceCoefficients.png')\n",
    "figures['present + Krishnan et al. (2014)'] = os.path.join(images_directory,\n",
    "                                                           'forceCoefficientsCompareKrishnanEtAl2014.png')\n",
    "ipywidgets.interact(miscellaneous.display_image, figure=figures);"
   ]
  },
  {
   "cell_type": "markdown",
   "metadata": {},
   "source": [
    "#### Vorticity field"
   ]
  },
  {
   "cell_type": "markdown",
   "metadata": {},
   "source": [
    "The cells below plot the vorticity field in the region [-2,15]x[-5,5] at every saved time-unit with ParaFOAM in batch mode and display the .png files in an interactive way."
   ]
  },
  {
   "cell_type": "code",
   "execution_count": null,
   "metadata": {
    "collapsed": true
   },
   "outputs": [],
   "source": [
    "simulation.plot_field_contours_paraview('vorticity',\n",
    "                                        field_range=(-5.0, 5.0),\n",
    "                                        view=(-2.0, -5.0, 15.0, 5.0),\n",
    "                                        width=600,\n",
    "                                        colormap='RdBu_r')"
   ]
  },
  {
   "cell_type": "code",
   "execution_count": null,
   "metadata": {
    "collapsed": false
   },
   "outputs": [],
   "source": [
    "miscellaneous.displayer(os.path.join(simulation.directory,\n",
    "                                     'images',\n",
    "                                     'vorticity_-2.00_-5.00_15.00_5.00'))"
   ]
  },
  {
   "cell_type": "markdown",
   "metadata": {},
   "source": [
    "#### Pressure field"
   ]
  },
  {
   "cell_type": "markdown",
   "metadata": {},
   "source": [
    "The cells below plot the pressure field in the region [-2,15]x[-5,5] and in the entire domain at every saved time-unit with ParaFOAM in batch mode and display the .png files in an interactive way."
   ]
  },
  {
   "cell_type": "code",
   "execution_count": null,
   "metadata": {
    "collapsed": true
   },
   "outputs": [],
   "source": [
    "simulation.plot_field_contours_paraview('pressure',\n",
    "                                        field_range=(-1.0, 0.5),\n",
    "                                        view=(-2.0, -5.0, 15.0, 5.0),\n",
    "                                        width=600,\n",
    "                                        colormap='viridis')"
   ]
  },
  {
   "cell_type": "code",
   "execution_count": null,
   "metadata": {
    "collapsed": false
   },
   "outputs": [],
   "source": [
    "miscellaneous.displayer(os.path.join(simulation.directory,\n",
    "                                     'images',\n",
    "                                     'pressure_-2.00_-5.00_15.00_5.00'))"
   ]
  },
  {
   "cell_type": "code",
   "execution_count": null,
   "metadata": {
    "collapsed": true
   },
   "outputs": [],
   "source": [
    "simulation.plot_field_contours_paraview('pressure',\n",
    "                                        field_range=(-1.0, 0.5),\n",
    "                                        view=(-15.0, -15.0, 15.0, 15.0),\n",
    "                                        width=600,\n",
    "                                        colormap='viridis')"
   ]
  },
  {
   "cell_type": "code",
   "execution_count": null,
   "metadata": {
    "collapsed": false
   },
   "outputs": [],
   "source": [
    "miscellaneous.displayer(os.path.join(simulation.directory,\n",
    "                                     'images',\n",
    "                                     'pressure_-15.00_-15.00_15.00_15.00'))"
   ]
  },
  {
   "cell_type": "code",
   "execution_count": null,
   "metadata": {
    "collapsed": true
   },
   "outputs": [],
   "source": []
  }
 ],
 "metadata": {
  "hide_input": true,
  "kernelspec": {
   "display_name": "Python 2",
   "language": "python",
   "name": "python2"
  },
  "language_info": {
   "codemirror_mode": {
    "name": "ipython",
    "version": 2
   },
   "file_extension": ".py",
   "mimetype": "text/x-python",
   "name": "python",
   "nbconvert_exporter": "python",
   "pygments_lexer": "ipython2",
   "version": "2.7.11"
  }
 },
 "nbformat": 4,
 "nbformat_minor": 0
}
