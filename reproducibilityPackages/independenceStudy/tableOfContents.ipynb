{
 "cells": [
  {
   "cell_type": "markdown",
   "metadata": {},
   "source": [
    "The present directory reports on simulations run with cuIBM, PetIBM, IBAMR, and OpenFOAM to assess the independence of the numerical solution when changing the parameters such as the spatial discretization, the temporal discretization, and the exit criterion of the iterative solvers.\n",
    "\n",
    "## Table of Contents:\n",
    "                   \n",
    "* [cuIBM's results](./cuibm/report.ipynb): grid-independence, iterative-convergence in the residuals, and temporal convergence in the forces acting on the flying-snake cross-section at Reynolds number 2000.\n",
    "\n",
    "* [PetIBM's results](./petibm/report.ipynb): grid-independence, iterative-independence in the residuals, and temporal-independence in the forces at Reynolds number 2000.\n",
    "\n",
    "* [IBAMR's results](./ibamr/report.ipynb): evaluation of the relative differences in the force coefficients due to iterative errors and temporal errors at Reynolds number 2000.\n",
    "\n",
    "* [OpenFOAM's results](./openfoam/report.ipynb): grid-independence and iterative-independence analysis at Reynolds number 2000 and angle-of-attack 35 degrees."
   ]
  },
  {
   "cell_type": "code",
   "execution_count": null,
   "metadata": {
    "collapsed": true
   },
   "outputs": [],
   "source": []
  }
 ],
 "metadata": {
  "hide_input": false,
  "kernelspec": {
   "display_name": "Python 2",
   "language": "python",
   "name": "python2"
  },
  "language_info": {
   "codemirror_mode": {
    "name": "ipython",
    "version": 2
   },
   "file_extension": ".py",
   "mimetype": "text/x-python",
   "name": "python",
   "nbconvert_exporter": "python",
   "pygments_lexer": "ipython2",
   "version": "2.7.12"
  }
 },
 "nbformat": 4,
 "nbformat_minor": 0
}
