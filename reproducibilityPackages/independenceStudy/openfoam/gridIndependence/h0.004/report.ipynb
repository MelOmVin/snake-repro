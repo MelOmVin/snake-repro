{
 "cells": [
  {
   "cell_type": "markdown",
   "metadata": {
    "collapsed": true
   },
   "source": [
    "# 2D flying-snake at Re=2000 and AoA=35deg (snappyHexMesh + OpenFOAM-2.3.0) with smallest grid-spacing h=0.004"
   ]
  },
  {
   "cell_type": "markdown",
   "metadata": {},
   "source": [
    "---"
   ]
  },
  {
   "cell_type": "markdown",
   "metadata": {},
   "source": [
    "This notebook heavily relies on the Python package `snake`, available on [GitHub](https://github.com/mesnardo/snake).\n",
    "`snake` was written to post-process and compare the numerical solution from 4 different softwares ([`cuIBM`](https://github.com/barbagroup/cuIBM), [`PetIBM`](https://github.com/barbagroup/PetIBM), [`IBAMR`](https://github.com/IBAMR/IBAMR), and [`OpenFOAM`](http://www.openfoam.com/))."
   ]
  },
  {
   "cell_type": "code",
   "execution_count": null,
   "metadata": {
    "collapsed": true
   },
   "outputs": [],
   "source": [
    "import os\n",
    "import sys\n",
    "import collections\n",
    "\n",
    "import ipywidgets\n",
    "\n",
    "import snake\n",
    "from snake import miscellaneous\n",
    "from snake.geometry import Geometry\n",
    "from snake.openfoam import OBJFile\n",
    "from snake.openfoam.simulation import OpenFOAMSimulation\n",
    "from snake.cuibm.simulation import CuIBMSimulation"
   ]
  },
  {
   "cell_type": "code",
   "execution_count": null,
   "metadata": {
    "collapsed": false
   },
   "outputs": [],
   "source": [
    "print('Python version: ' + sys.version)\n",
    "print('snake version:' + snake.__version__)"
   ]
  },
  {
   "cell_type": "markdown",
   "metadata": {},
   "source": [
    "Last time we ran this notebook, the output of the cell above was:\n",
    "```\n",
    "Python version: 2.7.12 |Anaconda 2.5.0 (64-bit)| (default, Jul  2 2016, 17:42:40) \n",
    "[GCC 4.4.7 20120313 (Red Hat 4.4.7-1)]\n",
    "snake version:0.1.2\n",
    "```"
   ]
  },
  {
   "cell_type": "markdown",
   "metadata": {},
   "source": [
    "---"
   ]
  },
  {
   "cell_type": "markdown",
   "metadata": {},
   "source": [
    "### Description\n",
    "\n",
    "We aim to compute the 2D flow around a snake cross-section with angle-of-attack 35 degrees at Reynolds number 2000 using IcoFOAM, the laminar incompressible solver of OpenFOAM.\n",
    "\n",
    "The computational mesh, generated with the OpenFOAM mesh utility snappyHexMesh, contains about 3.4 million cells."
   ]
  },
  {
   "cell_type": "markdown",
   "metadata": {},
   "source": [
    "---"
   ]
  },
  {
   "cell_type": "markdown",
   "metadata": {},
   "source": [
    "### General information\n",
    "\n",
    "* software: `OpenFOAM-2.3.0`\n",
    "* post-processing software: `ParaView-4.1` (included in `OpenFOAM-2.3.1`)\n",
    "* submission date: 2015/10/30 (mesnardo)\n",
    "* running date: 2015/10/30\n",
    "* machine: [`Colonial One`](https://ots.columbian.gwu.edu/colonial-one-high-performance-computing-initiative) (short queue, 16 processes, 1 node)"
   ]
  },
  {
   "cell_type": "code",
   "execution_count": null,
   "metadata": {
    "collapsed": false
   },
   "outputs": [],
   "source": [
    "simulation = OpenFOAMSimulation(description='IcoFOAM')"
   ]
  },
  {
   "cell_type": "markdown",
   "metadata": {},
   "source": [
    "---"
   ]
  },
  {
   "cell_type": "markdown",
   "metadata": {},
   "source": [
    "### Computational domain and mesh\n",
    "\n",
    "The mesh contains about 3.4 million cells and was created with the 3D OpenFOAM mesh utility, `snappyHexMesh`.\n",
    "\n",
    "To generate the mesh, you need first to create the necessary .obj files (`snake.obj`, `boxNear.obj`, and `boxWake.obj`). To do that, run the cell below.\n",
    "Afterwards, you can generate the mesh with the command-line:\n",
    "    > runSnappyHexMesh.sh"
   ]
  },
  {
   "cell_type": "code",
   "execution_count": null,
   "metadata": {
    "collapsed": true
   },
   "outputs": [],
   "source": [
    "# create triSurface directory if not present\n",
    "save_directory = os.path.join(simulation.directory,\n",
    "                              'constant',\n",
    "                              'triSurface')\n",
    "if not os.path.isdir(save_directory):\n",
    "    os.makedirs(save_directory)\n",
    "\n",
    "# save the bluff-body as .obj file\n",
    "body = Geometry(file_path=os.path.join(os.environ['SNAKE'],\n",
    "                                       'resources',\n",
    "                                       'geometries',\n",
    "                                       'flyingSnake2d',\n",
    "                                       'flyingSnake2dAoA35.dat'))\n",
    "body.write('tmpBody.dat')\n",
    "body = OBJFile.Body2d('tmpBody.dat',\n",
    "                      name='snake',\n",
    "                      extrusion_limits=(0.0, 1.0))\n",
    "body.write(save_directory=save_directory)\n",
    "os.remove('tmpBody.dat')\n",
    "\n",
    "# create two boxes of refinement as .obj files\n",
    "box = OBJFile.Box2d('boxNear',\n",
    "                    bottom_left=(-1.0, -2.0),\n",
    "                    top_right=(10.0, 2.0),\n",
    "                    n=(800, 400))\n",
    "box.write(save_directory)\n",
    "box = OBJFile.Box2d('boxWake',\n",
    "                    bottom_left=(-2.0, -4.0),\n",
    "                    top_right=(15.0, 4.0),\n",
    "                    n=(700, 300))\n",
    "box.write(save_directory)"
   ]
  },
  {
   "cell_type": "markdown",
   "metadata": {},
   "source": [
    "---"
   ]
  },
  {
   "cell_type": "markdown",
   "metadata": {},
   "source": [
    "### Boundary conditions"
   ]
  },
  {
   "cell_type": "code",
   "execution_count": null,
   "metadata": {
    "collapsed": false
   },
   "outputs": [],
   "source": [
    "boundary_info = '0/U'\n",
    "%cat $boundary_info\n",
    "boundary_info = '0/p'\n",
    "%cat $boundary_info"
   ]
  },
  {
   "cell_type": "markdown",
   "metadata": {},
   "source": [
    "---"
   ]
  },
  {
   "cell_type": "markdown",
   "metadata": {},
   "source": [
    "### Simulation parameters"
   ]
  },
  {
   "cell_type": "code",
   "execution_count": null,
   "metadata": {
    "collapsed": false
   },
   "outputs": [],
   "source": [
    "simulation_info = 'system/controlDict'\n",
    "%cat $simulation_info\n",
    "simulation_info = 'system/fvSolution'\n",
    "%cat $simulation_info\n",
    "simulation_info = 'system/fvScheme'\n",
    "%cat $simulation_info"
   ]
  },
  {
   "cell_type": "markdown",
   "metadata": {},
   "source": [
    "---"
   ]
  },
  {
   "cell_type": "markdown",
   "metadata": {},
   "source": [
    "### Running the case\n",
    "\n",
    "To run the the case in parallel , we need to decompose the domain:\n",
    "    > decomposeParDict\n",
    "\n",
    "To run the case the simulation:\n",
    "    > mpirun -n <nprocs> icoFOAM -parallel > log.icoFoam\n",
    "\n",
    "To reconstruct the parallel solution:\n",
    "    > reconstructPar\n",
    "\n",
    "To generate the vorticity field at each time saved:\n",
    "    > vorticity"
   ]
  },
  {
   "cell_type": "markdown",
   "metadata": {},
   "source": [
    "---"
   ]
  }
 ],
 "metadata": {
  "hide_input": true,
  "kernelspec": {
   "display_name": "Python 2",
   "language": "python",
   "name": "python2"
  },
  "language_info": {
   "codemirror_mode": {
    "name": "ipython",
    "version": 2
   },
   "file_extension": ".py",
   "mimetype": "text/x-python",
   "name": "python",
   "nbconvert_exporter": "python",
   "pygments_lexer": "ipython2",
   "version": "2.7.12"
  }
 },
 "nbformat": 4,
 "nbformat_minor": 0
}
