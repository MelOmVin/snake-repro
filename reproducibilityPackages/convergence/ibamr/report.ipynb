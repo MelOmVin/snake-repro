{
 "cells": [
  {
   "cell_type": "markdown",
   "metadata": {},
   "source": [
    "# Independence analysis with IBAMR\n",
    "---"
   ]
  },
  {
   "cell_type": "markdown",
   "metadata": {},
   "source": [
    "In this notebook, we compare the numerical solutions (1) between simulations using different relative tolerances for the iterative solvers and (2) between simulations using different CFL constraints.\n",
    "\n",
    "All computations were carried out on the University HPC cluster with the open-source software [IBAMR](https://github.com/IBAMR/IBAMR).\n",
    "We used the version of IBAMR tagged [`snake-repro`](https://github.com/mesnardo/IBAMR/releases/tag/snake-repro), the linear algebra library [`PETSc-3.5.2`](https://www.mcs.anl.gov/petsc/download/index.html), `OpenMPI-1.8`, `gcc-4.7.0`, `SAMRAI-2.4.4`, `HDF5-1.8.13`, and `SILO-4.10`."
   ]
  },
  {
   "cell_type": "markdown",
   "metadata": {},
   "source": [
    "---\n",
    "_Warnings:_\n",
    "\n",
    "1. Some cells in this notebook requires the numerical solution of the flying-snake simulations.\n",
    "If you do not have the solution, skip the cell and execute the following one to see the results.\n",
    "\n",
    "2. Python post-processing scripts to plot the figures make use of the package `snake`, available on [GitHub](https://github.com/mesnardo/snake).\n",
    "---"
   ]
  },
  {
   "cell_type": "code",
   "execution_count": null,
   "metadata": {
    "collapsed": true
   },
   "outputs": [],
   "source": [
    "import os\n",
    "import sys\n",
    "%matplotlib inline\n",
    "\n",
    "from IPython.display import Image \n",
    "\n",
    "import snake"
   ]
  },
  {
   "cell_type": "code",
   "execution_count": null,
   "metadata": {
    "collapsed": false
   },
   "outputs": [],
   "source": [
    "print('Python version: {}'.format(sys.version))\n",
    "print('snake version: {}'.format(snake.__version__))"
   ]
  },
  {
   "cell_type": "markdown",
   "metadata": {},
   "source": [
    "Last time we ran this notebook, the output of the cell above was:\n",
    "```\n",
    "Python version: 2.7.12 |Anaconda 2.5.0 (64-bit)| (default, Jul  2 2016, 17:42:40) \n",
    "[GCC 4.4.7 20120313 (Red Hat 4.4.7-1)]\n",
    "snake version: 0.1.2\n",
    "```"
   ]
  },
  {
   "cell_type": "markdown",
   "metadata": {},
   "source": [
    "---\n",
    "## Using more stringent exit criterion for the iterative solvers\n",
    "---"
   ]
  },
  {
   "cell_type": "markdown",
   "metadata": {},
   "source": [
    "In our manuscript, we report the numerical solution, obtained with IBAMR, of the flying-snake problem at Reynolds numbers 1000 and 2000 for various angles-of-attack.\n",
    "These simulations used an exit criterion for the iterative solvers based on the default relative tolerance of PETSc ($10^{-6}$).\n",
    "\n",
    "Here, we compare the force coefficients at Reynolds number 2000 and angle-of-attack 35 degrees, previously obtained with default relative tolerances, with those when tightening the exit criterion.\n",
    "Specifically, we drecreased the relative tolerances of the iterative solvers by 4 orders of magnitude ($10^{-10}$).\n",
    "(Other simulation parameters remain identical.)\n",
    "\n",
    "The next cell executes a Python script named `plotForceCoefficientsCompareRTol.py` that requires the numerical solution from the two simulations.\n",
    "In the folder `iterativeErrors`, we provide all input files necessary to re-run these simulations (they are located in the sub-folders `rtol6` and `rtol10`) and a `README` file that details the simulations.\n",
    "If you do not have the numerical solutions, you can skip the next cell and jump directly to the next one to visualize the force coefficients we obtained."
   ]
  },
  {
   "cell_type": "code",
   "execution_count": null,
   "metadata": {
    "collapsed": false
   },
   "outputs": [],
   "source": [
    "# WARNING: execute this cell if you have the numerical solutions\n",
    "script = os.path.join('iterativeError',\n",
    "                      'plotForceCoefficientsCompareRTol.py')\n",
    "%run $script"
   ]
  },
  {
   "cell_type": "code",
   "execution_count": null,
   "metadata": {
    "collapsed": false
   },
   "outputs": [],
   "source": [
    "Image(os.path.join('iterativeError',\n",
    "                   'forceCoefficientsCompareRTol.png'))"
   ]
  },
  {
   "cell_type": "markdown",
   "metadata": {},
   "source": [
    "Looking at the instantaneous force coefficients (see figure above), we observed the mean lift coefficient drops over the course of the simulation in both cases.\n",
    "However, the drop does not start at the same time-unit.\n",
    "The force coefficients closely match up to 40 time-units of flow-simulation and seem to converge to the same mean value over the end of the run.\n",
    "\n",
    "When we average the force coefficients between 32 and 64 time-units (as it was done in Krishnan et al., 2014), we get:\n",
    "\n",
    "| rtol | Avg. $C_d$ | $\\Delta C_d / C_d$ | Avg. $C_l$ | $\\Delta C_l / C_l$ |\n",
    "|:-:|:-:|:-:|:-:|:-:|\n",
    "| $10^{-6}$ | $1.2558$ |  | $2.0580$ |  |\n",
    "| $10^{-10}$ | $1.3015$ | $+3.64\\%$ | $2.1575$ | $+4.83\\%$ |"
   ]
  },
  {
   "cell_type": "markdown",
   "metadata": {},
   "source": [
    "---\n",
    "## Using a smaller CFL constraint\n",
    "---"
   ]
  },
  {
   "cell_type": "markdown",
   "metadata": {},
   "source": [
    "With IBAMR, the size of the time-increment is dynamically computed during the simulation, based on a given CFL constraint.\n",
    "When we used a CFL value of $0.3$, we observed a drop in the mean force coefficients at Reynolds number 2000 and angle-of-attack 35 degrees, thus, affecting the quantity we are trying to replicate from our previous study: the lift coefficient averaged between 32 and 64 time-units.\n",
    "Here, we report the results obtained similar simulation parameters, except we lowered the CFL value to $0.1$.\n",
    "\n",
    "The next cell executes a Python script named `plotForceCoefficientsCompareCFL.py` located in the folder `temporalError`.\n",
    "This script reads the forces from the two simulations (with different CFL constraints), thus, requires the solutions to be computed.\n",
    "In the sub-folders `cfl0.3` and `cfl0.1` located in the same directory, we provide all the input files necessary to re-run the simulations.\n",
    "In addition, a `README` file details information about the runs.\n",
    "In case you do not have the numerical solutions, you can skip the next cell and execute the one after to visualize the force coefficients we obtained."
   ]
  },
  {
   "cell_type": "code",
   "execution_count": null,
   "metadata": {
    "collapsed": false
   },
   "outputs": [],
   "source": [
    "# WARNING: execute this cell if you have the numerical solutions\n",
    "script = os.path.join('temporalError',\n",
    "                      'plotForceCoefficientsCompareCFL.py')\n",
    "%run $script"
   ]
  },
  {
   "cell_type": "code",
   "execution_count": null,
   "metadata": {
    "collapsed": false
   },
   "outputs": [],
   "source": [
    "Image(os.path.join('temporalError',\n",
    "                   'forceCoefficientsCompareCFL.png'))"
   ]
  },
  {
   "cell_type": "markdown",
   "metadata": {},
   "source": [
    "From the figure above, we see that the drop in the mean lift coefficient disappeared when tightening the CFL constraint: with a CFL value of $0.1$, we reach a steady periodic regime over the entire run, while maintaining a high mean lift coefficient.\n",
    "\n",
    "When we average the force coefficients between 32 and 64 time-units, we get:\n",
    "\n",
    "| CFL | Avg. $C_d$ | $\\Delta C_d / C_d$ | Avg. $C_l$ | $\\Delta C_l / C_l$ |\n",
    "|:-:|:-:|:-:|:-:|:-:|\n",
    "| $0.3$ | $1.2558$ |  | $2.0580$ |  |\n",
    "| $0.1$ | $1.3282$ | $+5.77\\%$ | $2.2.2285$ | $+8.28\\%$ |\n",
    "\n",
    "We added the numerical solution obtained with a tighter CFL constraint to our manuscript during the revision process."
   ]
  },
  {
   "cell_type": "markdown",
   "metadata": {
    "collapsed": true
   },
   "source": [
    "---\n",
    "#### References:\n",
    "\n",
    "* Krishnan, A., Socha, J. J., Vlachos, P. P., & Barba, L. A. (2014). Lift and wakes of flying snakes. Physics of Fluids (1994-present), 26(3), 031901.\n",
    "\n",
    "---"
   ]
  },
  {
   "cell_type": "code",
   "execution_count": null,
   "metadata": {
    "collapsed": true
   },
   "outputs": [],
   "source": []
  }
 ],
 "metadata": {
  "hide_input": true,
  "kernelspec": {
   "display_name": "Python 2",
   "language": "python",
   "name": "python2"
  },
  "language_info": {
   "codemirror_mode": {
    "name": "ipython",
    "version": 2
   },
   "file_extension": ".py",
   "mimetype": "text/x-python",
   "name": "python",
   "nbconvert_exporter": "python",
   "pygments_lexer": "ipython2",
   "version": "2.7.12"
  }
 },
 "nbformat": 4,
 "nbformat_minor": 0
}
