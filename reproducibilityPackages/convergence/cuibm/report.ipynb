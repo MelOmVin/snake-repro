{
 "cells": [
  {
   "cell_type": "markdown",
   "metadata": {},
   "source": [
    "# Towards a grid-convergence analysis with cuIBM\n",
    "---"
   ]
  },
  {
   "cell_type": "markdown",
   "metadata": {},
   "source": [
    "The present Jupyter-Notebook reports all the simulations used to conduct a independence and convergence analysis of the flying-snake simulation at Reynolds 2000 with the current version of cuIBM.\n",
    "\n",
    "cuIBM is our in-house C++ code that solves the incompressible Navier-Stokes equations in two dimensions on a single GPU device using the immersed-boundary projection method of Taira and Colonius (2007).\n",
    "\n",
    "The version of cuIBM used to run the simulations is tagged `snake-repro-cusp-0.5.1` and available on the [GitHub repository](https://github.com/barbagroup/cuIBM/releases/tag/snake-repro-cusp-0.5.1).\n",
    "\n",
    "cuIBM relies on an external linear algebra library [CUSP](https://github.com/cusplibrary/cusplibrary) (version [0.5.1](https://github.com/cusplibrary/cusplibrary/releases/tag/v0.5.1)) to iteratively solve the velocity and Poisson systems.\n",
    "In addition, we used CUDA-7.5 to compute on a single GPU card; in this work, we used either K20 or K40 as GPU device."
   ]
  },
  {
   "cell_type": "markdown",
   "metadata": {},
   "source": [
    "---\n",
    "_Warnings:_\n",
    "\n",
    "1. Some cells in this notebook requires the numerical solution of the flying-snake simulations.\n",
    "If you do not have the solution,  skip the cell and execute the following one to see the results.\n",
    "\n",
    "2. Python post-processing scripts to plot the figures make use of the package `snake`, available on [GitHub](https://github.com/mesnardo/snake).\n",
    "\n",
    "3. cuIBM runs on the finest mesh require a GPU card with at least 6GB of device memory. Here, we used a K40 to compute the numerical solution on the finest grid. (Note: a K20 does not have enough memory to run the finest mesh.)\n",
    "---"
   ]
  },
  {
   "cell_type": "code",
   "execution_count": null,
   "metadata": {
    "collapsed": true
   },
   "outputs": [],
   "source": [
    "import os\n",
    "import warnings\n",
    "%matplotlib inline\n",
    "\n",
    "from IPython.display import Image\n",
    "from IPython.core.display import HTML \n",
    "\n",
    "import snake\n",
    "from snake.cuibm.simulation import CuIBMSimulation\n",
    "\n",
    "if snake.__version__ != '0.1.2':\n",
    "    warnings.warn('The figures were originally created with snake-0.1.2, '+\n",
    "                  'you are using snake-{}'.format(snake.__version__))"
   ]
  },
  {
   "cell_type": "markdown",
   "metadata": {},
   "source": [
    "---\n",
    "## Table of contents of the directory:\n",
    "---\n",
    "\n",
    "* `gridIndependence/`\n",
    "    - `Re2000AoA30/`: flying-snake at angle-of-attack 30 degrees and Reynolds number 2000.\n",
    "        + `h0.004/`: simulation reported our manuscript that uses the same input parameters than the one from our previous study (see Krishnan et al., 2014).\n",
    "        + `h0.006/`: we use a coarser grid with uniform grid-spacing $h=0.006$ in the vicinity of the bluff-body; all other parameters remain identical.\n",
    "    - `Re2000AoA35/`: flying-snake at angle-of-attack 35 degrees and Reynolds number 2000.\n",
    "        + `h0.004/`: simulation reported our manuscript that uses the same input parameters than the one from our previous study (see Krishnan et al., 2014).\n",
    "        + `h0.006/`: we use a coarser grid with uniform grid-spacing $h=0.006$ in the vicinity of the bluff-body; all other parameters remain identical.\n",
    "        + `h0.006_rtol6/`: same parameters than above, except we use more demanding exit criterion for the iterative solvers (relative tolerance of $10^{-6}$ instead of $10^{-5}$).\n",
    "        + `h0.006_vatol16_patol5_dt0.0002/`: we use a coarse mesh with $h=0.006$ in the uniform region and a time-increment $\\Delta t=0.0002$. The exit criterion for the velocity solver is set to an absolute tolerance of $10^{-16}$ while a value of $10^{-5}$ is used for the Poisson solver.\n",
    "        + `h0.006_vatol16_patol6_dt0.0002/`: we use a coarse mesh with $h=0.006$ in the uniform region and a time-increment $\\Delta t=0.0002$. The exit criterion for the velocity solver is set to an absolute tolerance of $10^{-16}$ while a value of $10^{-8}$ is used for the Poisson solver.\n",
    "        + `h0.006_vatol16_patol8_dt0.0002/`: we use a coarse mesh with $h=0.006$ in the uniform region and a time-increment $\\Delta t=0.0002$. The exit criterion for the velocity solver is set to an absolute tolerance of $10^{-16}$ while a value of $10^{-8}$ is used for the Poisson solver.\n",
    "\n",
    "* `iterativeConvergence/`: we estimate the required exit criterion needed to solve the discrete Poisson system to machine precision. Each sub-folder corresponds to a simulation with a certain absolute tolerance to solve the Poisson system (e.g., `atol10` solve the Poisson system with an absolute tolerance set to $10^{-10}$).\n",
    "\n",
    "* `temporalConvergence/`: estimation of the temporal order of convergence with three numerical solution on the fine mesh $h=0.00267$ with systematic refinement in the time-increment.\n",
    "    - `dt2.0E-04/`: $\\Delta t=2\\times 10^{-4}$.\n",
    "    - `dt1.0E-04/`: $\\Delta t=1\\times 10^{-4}$.\n",
    "    - `dt5.0E-05/`: $\\Delta t=5\\times 10^{-5}$.\n",
    "\n",
    "* `gridConvergence/`: we wanted to estimate the spatial order of convergence and the grid-convergence index with the numerical solution on three systematically refined grids.\n",
    "    - `h0.006/`: grid-spacing $h=0.006$ in the uniform region surrounding the bluff-body.\n",
    "    - `h0.004/`: grid-spacing $h=0.004$ in the uniform region surrounding the bluff-body.\n",
    "    - `h0.00267/`: grid-spacing $h=0.00267$ in the uniform region surrounding the bluff-body."
   ]
  },
  {
   "cell_type": "markdown",
   "metadata": {},
   "source": [
    "---\n",
    "## Grid-independence analysis\n",
    "---"
   ]
  },
  {
   "cell_type": "markdown",
   "metadata": {},
   "source": [
    "Krishnan et al. (2014) reported grid-independence in the solution at Reynolds number $Re=2000$ and angles of attack $AoA=30$ and $35$ degrees.\n",
    "To do that, they computed the solution on two grids with a different grid-spacings in the uniform region ($h=0.004$ and $h=0.006$).\n",
    "Outside the uniform region, the mesh is stretched to the domain boundaries with a constant ratio of $1.01$.\n",
    "\n",
    "The two tables below display the relative differences in the time-averaged force coefficients between the two mesh levels.\n",
    "\n",
    "* $Re=2000$ and $AoA=30^o$:\n",
    "\n",
    "| h | Avg. $C_d$ | $\\Delta C_d / C_d$ | Avg. $C_l$ | $\\Delta C_l / C_l$ |\n",
    "|:-:|:-:|:-:|:-:|:-:|\n",
    "| $0.006$ | $0.964$ |  | $1.533$ |  |\n",
    "| $0.004$ | $0.967$ | $+0.3\\%$ | $1.532$ | $-0.07\\%$ |\n",
    "\n",
    "* $Re=2000$ and $AoA=35^o$:\n",
    "\n",
    "| h | Avg. $C_d$ | $\\Delta C_d / C_d$ | Avg. $C_l$ | $\\Delta C_l / C_l$ |\n",
    "|:-:|:-:|:-:|:-:|:-:|\n",
    "| $0.006$ | $1.280$ |  | $2.098$ |  |\n",
    "| $0.004$ | $1.316$ | $+2.7\\%$ | $2.147$ | $+2.3\\%$ |\n",
    "\n",
    "The \"small\" relative differences obtained led Krishnan and co-workers to conclude that the solution on a grid with $h=0.004$ was sufficiently accurate."
   ]
  },
  {
   "cell_type": "markdown",
   "metadata": {},
   "source": [
    "Here, we start by conducting the same grid-independence analysis using a newer version of [cuIBM](https://github.com/barbagroup/cuIBM/releases/tag/snake-repro-cusp-0.5.1) and a newer version of the linear algebra library [CUSP](https://github.com/cusplibrary/cusplibrary/releases/tag/v0.5.1)."
   ]
  },
  {
   "cell_type": "markdown",
   "metadata": {},
   "source": [
    "* $Re=2000$ and $AoA=30^o$:\n",
    "\n",
    "We computed the solution at Reynolds number 2000 and angle-of-attack 30 degrees on two grids with different grid-spacing in the uniform region ($h=0.004$ and $h=0.006$) using the same input parameters than those reported in the previous study.\n",
    "\n",
    "The next cell executes a Python script named `plotForceCoefficientsCompareMeshes.py` that requires the numerical solution on the two meshes.\n",
    "We provide all the input files necessary to re-run the simulations.\n",
    "They are located in the folder `cuibm/gridIndependence/Re2000AoA30`.\n",
    "Using a GPU K20, it tooks us about 34 hours and 58 hours to compute up to 80 time-units of flow-simulation on grids with $h=0.006$ and $h=0.004$, respectively.\n",
    "If you do not have the numerical solutions, you may skip the next cell and execute the one after to display the instantaneous force coefficients."
   ]
  },
  {
   "cell_type": "code",
   "execution_count": null,
   "metadata": {
    "collapsed": true
   },
   "outputs": [],
   "source": [
    "# WARNING: execute this cell if you have the numerical solution\n",
    "# for the simulation located in:\n",
    "# - `cuibm/gridIndependence/Re2000AoA30/h0.006`\n",
    "# - `cuibm/gridIndependence/Re2000AoA30/h0.004`\n",
    "script = os.path.join('gridIndependence',\n",
    "                      'Re2000AoA30',\n",
    "                      'plotForceCoefficientsCompareMeshes.py')\n",
    "%run $script"
   ]
  },
  {
   "cell_type": "code",
   "execution_count": null,
   "metadata": {
    "collapsed": false
   },
   "outputs": [],
   "source": [
    "Image(os.path.join('gridIndependence',\n",
    "                   'Re2000AoA30',\n",
    "                   'forceCoefficientsCompareMeshes.png'))"
   ]
  },
  {
   "cell_type": "markdown",
   "metadata": {},
   "source": [
    "We averaged the force coefficients between 32 and 64 time-units of flow-simulation and got similar relative differences between the two mesh levels compared to the values reported in Krishnan et al. (2014):\n",
    "\n",
    "| h | Avg. $C_d$ | $\\Delta C_d / C_d$ | Avg. $C_l$ | $\\Delta C_l / C_l$ |\n",
    "|:-:|:-:|:-:|:-:|:-:|\n",
    "| $0.006$ | $0.9627$ |  | $1.5331$ |  |\n",
    "| $0.004$ | $0.9673$ | $-0.47\\%$ | $1.5342$ | $-0.07\\%$ |"
   ]
  },
  {
   "cell_type": "markdown",
   "metadata": {},
   "source": [
    "* $Re=2000$ and $AoA=35^o$:\n",
    "\n",
    "We then increased the angle-of-attack of the bluff-body from 30 to 35 degrees, and computed the solution on the two mesh levels while keeping the same input parameters.\n",
    "Specifically, we used the same relative tolerance of $10^{-5}$ as exit criterion for the velocity and Poisson solvers.\n",
    "\n",
    "The next cell executes a Python script named `plotForceCoefficientsCompareMeshes.py` that requires the numerical solution on the two meshes.\n",
    "We provide all the input files necessary to re-run the simulations.\n",
    "They are located in the folder `cuibm/gridIndependence/Re2000AoA35`.\n",
    "Using a GPU K20, it tooks us about 31 hours and 66 hours to compute up to 80 time-units of flow-simulation on grids with $h=0.006$ and $h=0.004$, respectively.\n",
    "If you do not have the numerical solutions, you may skip the next cell and execute the one after to display the instantaneous force coefficients."
   ]
  },
  {
   "cell_type": "code",
   "execution_count": null,
   "metadata": {
    "collapsed": true
   },
   "outputs": [],
   "source": [
    "# WARNING: execute this cell if you have the numerical solution\n",
    "# for the simulation located in:\n",
    "# - `cuibm/gridIndependence/Re2000AoA35/h0.006`\n",
    "# - `cuibm/gridIndependence/Re2000AoA35/h0.004`\n",
    "script = os.path.join('gridIndependence',\n",
    "                      'Re2000AoA35',\n",
    "                      'plotForceCoefficientsCompareMeshes.py')\n",
    "%run $script"
   ]
  },
  {
   "cell_type": "code",
   "execution_count": null,
   "metadata": {
    "collapsed": false
   },
   "outputs": [],
   "source": [
    "Image(os.path.join('gridIndependence',\n",
    "                   'Re2000AoA35',\n",
    "                   'forceCoefficientsCompareMeshes.png'))"
   ]
  },
  {
   "cell_type": "markdown",
   "metadata": {},
   "source": [
    "On the coarser mesh level, we observe a drop in the mean force coefficients over the course of the simulation, starting at about 35 time-units.\n",
    "Thus, the time-averaged lift coefficient between 32 and 64 time-units, quantity of interest in the our study, is about $10%$ smaller than the value obtained on the finer mesh level:\n",
    "\n",
    "| h | Avg. $C_d$ | $\\Delta C_d / C_d$ | Avg. $C_l$ | $\\Delta C_l / C_l$ |\n",
    "|:-:|:-:|:-:|:-:|:-:|\n",
    "| $0.006$ | $1.1905$ |  | $1.9122$ |  |\n",
    "| $0.004$ | $1.3049$ | $-8.77\\%$ | $2.1203$ | $-9.81\\%$ |"
   ]
  },
  {
   "cell_type": "markdown",
   "metadata": {},
   "source": [
    "To check that the systems were iteratively solved with enough accuracy, we computed the solution on the coarse mesh with more demanding exit criterion for the solvers: we decreased the relative tolerance by one order of magnitude (from $10^{-5}$ to $10^{-6}$).\n",
    "\n",
    "The next cell executes a Python script named `plotForceCoefficientsCompareRTol.py` that requires the numerical solution on the two meshes.\n",
    "We provide all the input files necessary to re-run the simulations.\n",
    "They are located in the folder `cuibm/gridIndependence/Re2000AoA35`.\n",
    "Using a GPU K20, it tooks us about 31 hours and 73 hours to compute up to 80 time-units of flow-simulation on the coarse grid with relative tolerances of $10^{-5}$ and $10^{-6}$, respectively.\n",
    "If you do not have the numerical solutions, you may skip the next cell and execute the one after to display the instantaneous force coefficients."
   ]
  },
  {
   "cell_type": "code",
   "execution_count": null,
   "metadata": {
    "collapsed": true
   },
   "outputs": [],
   "source": [
    "# WARNING: execute this cell if you have the numerical solution\n",
    "# for the simulation located in:\n",
    "# - `cuibm/gridIndependence/Re2000AoA35/h0.006`\n",
    "# - `cuibm/gridIndependence/Re2000AoA35/h0.006_rtol6`\n",
    "script = os.path.join('gridIndependence',\n",
    "                      'Re2000AoA35',\n",
    "                      'plotForceCoefficientsCompareRTol.py')\n",
    "%run $script"
   ]
  },
  {
   "cell_type": "code",
   "execution_count": null,
   "metadata": {
    "collapsed": false
   },
   "outputs": [],
   "source": [
    "Image(os.path.join('gridIndependence',\n",
    "                   'Re2000AoA35',\n",
    "                   'forceCoefficientsCompareRTol.png'))"
   ]
  },
  {
   "cell_type": "markdown",
   "metadata": {},
   "source": [
    "The instantaneous force coefficients closely match the ones obtained with loose relative tolerances and the relative difference in the time-averaged coefficients is negligible:\n",
    "\n",
    "| rtol | Avg. $C_d$ | $\\Delta C_d / C_d$ | Avg. $C_l$ | $\\Delta C_l / C_l$ |\n",
    "|:-:|:-:|:-:|:-:|:-:|\n",
    "| $10^{-5}$ | $1.1905$ |  | $1.9122$ |  |\n",
    "| $10^{-6}$ | $1.1871$ | $-0.29\\%$ | $1.9086$ | $-0.19\\%$ |\n",
    "\n",
    "At that point, we conclude we are not able to replicate the grid-independence in the time-averaged lift coefficient at Reynolds number 2000 and angle-of-attack 35 degrees, when using the same parameters than in our previous study.\n",
    "\n",
    "We use the same software, cuIBM, and the same input files, but we are not able to replicate the grid-independence anlysis...\n",
    "What is different between the two studies?\n",
    "Well, cuIBM was augmented with new features, the GPU device is different, and the version of the external linear algebra library changed too."
   ]
  },
  {
   "cell_type": "markdown",
   "metadata": {},
   "source": [
    "---\n",
    "## Looking at the exit criterion for the Poisson solver\n",
    "---"
   ]
  },
  {
   "cell_type": "markdown",
   "metadata": {},
   "source": [
    "We decided to investigate the effect of the exit criterion for the Poisson solver on the numerical solution on the coarse grid.\n",
    "To do that, we set the exit criterion of the velocity solver with an absolute tolerance of $10^{-16}$ and varied the one for the Poisson solver ($10^{-5}$, $10^{-6}$, and $10^{-8}$).\n",
    "In addition, we used a time-increment twice smaller than the one reported in our previous study to minimize temporal errors.\n",
    "\n",
    "The next cell runs a Python script named `plotForceCoefficientsCompareATol.py` that requires the numerical solution of the simulation using $10^{-5}$ and $10^{-6}$ as absolute tolerance for the Poisson solver.\n",
    "The input files necessary to re-compute the solutions are located in the folders `cuibm/gridIndependence/Re2000AoA35/h0.006_vatol16_patol5_dt0.002` and `cuibm/gridIndependence/Re2000AoA35/h0.006_vatol16_patol6_dt0.002`.\n",
    "Using a GPU K20, it tooks us about 14 hours and 25 hours to compute up to 80 time-units of flow-simulation on the coarse grid with absolute tolerances of $10^{-5}$ and $10^{-6}$, respectively.\n",
    "If you do not have the numerical solutions, you may skip the next cell and execute the one after to display the instantaneous force coefficients."
   ]
  },
  {
   "cell_type": "code",
   "execution_count": null,
   "metadata": {
    "collapsed": true
   },
   "outputs": [],
   "source": [
    "# WARNING: execute this cell if you have the numerical solution\n",
    "# for the simulation located in:\n",
    "# - `cuibm/gridIndependence/Re2000AoA35/h0.006_vatol16_patol5_dt0.002`\n",
    "# - `cuibm/gridIndependence/Re2000AoA35/h0.006_vatol16_patol6_dt0.002`\n",
    "script = os.path.join('gridIndependence',\n",
    "                      'Re2000AoA35',\n",
    "                      'plotForceCoefficientsCompareATol.py')\n",
    "%run $script"
   ]
  },
  {
   "cell_type": "code",
   "execution_count": null,
   "metadata": {
    "collapsed": false
   },
   "outputs": [],
   "source": [
    "Image(os.path.join('gridIndependence',\n",
    "                   'Re2000AoA35',\n",
    "                   'forceCoefficientsCompareATol.png'))"
   ]
  },
  {
   "cell_type": "code",
   "execution_count": null,
   "metadata": {
    "collapsed": true
   },
   "outputs": [],
   "source": [
    "# WARNING: execute this cell if you have computed the numerical solutions\n",
    "script = os.path.join('gridIndependence',\n",
    "                      'Re2000AoA35',\n",
    "                      'plotForceCoefficientsCompareATol2.py')\n",
    "%run $script"
   ]
  },
  {
   "cell_type": "code",
   "execution_count": null,
   "metadata": {
    "collapsed": false
   },
   "outputs": [],
   "source": [
    "Image(os.path.join('gridIndependence',\n",
    "                   'Re2000AoA35',\n",
    "                   'forceCoefficientsCompareATol2.png'))"
   ]
  },
  {
   "cell_type": "markdown",
   "metadata": {},
   "source": [
    "When averaging the force coefficients between 32 and 64 time-units, we get:\n",
    "\n",
    "| atol | Avg. $C_d$ | $\\Delta C_d / C_d$ | Avg. $C_l$ | $\\Delta C_l / C_l$ |\n",
    "|:-:|:-:|:-:|:-:|:-:|\n",
    "| $10^{-8}$ | $1.2838$ |  | $2.1229$ |  |\n",
    "| $10^{-6}$ | $1.2740$ | $-0.76\\%$ | $2.0934$ | $-1.39\\%$ |\n",
    "| $10^{-5}$ | $1.2095$ | $-5.79\\%$ | $1.9531$ | $-8.00\\%$ |"
   ]
  },
  {
   "cell_type": "markdown",
   "metadata": {},
   "source": [
    "Going back to our grid-independence analysis, we now compare the solution on the finer mesh level ($h=0.004$), with relative tolerances of $10^{-5}$, and a time-increment of $0.0004$, with the solution on the coarser mesh level ($h=0.006$), with an absolute tolerance of $10^{-8}$ for the Poisson solver, and a time-increment of $0.0002$.\n",
    "\n",
    "Averaging the force coefficients between 32 and 64 time-units, we get:\n",
    "\n",
    "| h | Avg. $C_d$ | $\\Delta C_d / C_d$ | Avg. $C_l$ | $\\Delta C_l / C_l$ |\n",
    "|:-:|:-:|:-:|:-:|:-:|\n",
    "| $0.004$ | $1.3049$ |  | $2.1203$ |  |\n",
    "| $0.006$ | $1.2838$ | $-1.62\\%$ | $2.1229$ | $+0.12\\%$ |"
   ]
  },
  {
   "cell_type": "markdown",
   "metadata": {},
   "source": [
    "At that point, we consider we achieved grid-independence in the time-averaged force coefficients at Reynolds number 2000 and angles of attack 30 and 35 degrees.\n",
    "\n",
    "We note that a grid-independence study is not as rigorous as a grid-convergence analysis, as the former does not necessarily mean the solution obtained with a grid is in the asymptotic range.\n",
    "\n",
    "To conduct a grid-convergence study, we need a way to estimate the discretization error.\n",
    "One possibility is to use use the grid-convergence index technique from Roache (1997).\n",
    "This methods requires to calculate a Richardson extrapolation based on the solution from two systematically refined grids and the order of convergence of the method.\n",
    "\n",
    "Although the Navier-Stokes solver implemented in cuIBM has a formal second-order order of convergence, the immersed-boundary techinque, the boundary conditions, and the stretching ratio of the grid may alter it.\n",
    "Instead, we can calculate the observed order of convergence of the problem, using the numerical solution on three systematically refined grids.\n",
    "\n",
    "Systematic mesh refinement requires uniformity in the refinement as well as consistency (i.e., the quality of the mesh should not be deteriorated with refinement).\n",
    "Note that uniform refinement does not impose the mesh itself to be uniform.\n",
    "\n",
    "Here, we would like to assess grid-convergence in the solution using three mesh levels ($h=0.006$, $0.004$, and $0.00267$) with systematic refinenement (ratio of $1.5$) in the uniform region while maintaining a constant stretching ratio of $1.01$ outside.\n",
    "\n",
    "Prior estimating the discretization error, we need to ensure the total error will not be dominated by iterative and temporal errors."
   ]
  },
  {
   "cell_type": "markdown",
   "metadata": {},
   "source": [
    "---\n",
    "## Iterative-convergence analysis\n",
    "---"
   ]
  },
  {
   "cell_type": "markdown",
   "metadata": {},
   "source": [
    "To evaluate the iterative error, we computed the solution on the finest mesh ($h=0.00267$) over a small number of time-steps with time-increment $\\Delta t=10^{-4}$.\n",
    "We fixed to exit criterion of the velocity solver with an absolute tolerance of $10^{-16}$ and varied the one for the Poisson solver (between $10^{-5}$ and $10^{-16}$).\n",
    "To avoid the transient regime due to the impulsively start, we first computed $1000$ time-steps ($0.1$ non-dimensional time-unit) using smallest absolute tolerance for the Poisson solver.\n",
    "The solution at $0.1$ time-unit was then used to compute an extra $500$ time-steps for each absolute tolerance of the Poisson solver.\n",
    "\n",
    "We consider the solution obtained with the smallest absolute tolerance as the machine-accurate one.\n",
    "At time-step 1500, we compare the differences in the forces, the flux fields, and the pressure fields from each run with the machine-accurate solution.\n",
    "\n",
    "The next cell runs a Python script named `plotIterativeErrors.py` that plots the errors in the forces, fluxes, and pressure after 1500 time-steps with respect to the machine-accurate solution.\n",
    "The script requires the numerical solution for each simulation located in the folder `cuibm/iterativeConvergence`.\n",
    "We used a GPU K40 to run the cases (the problem necessitates a minimum of 6GB of memory on the device).\n",
    "If you do not have the numerical solutions, you may skip the next cell and execute the one after to display the errors versus the absolute tolerance for the Poisson solver."
   ]
  },
  {
   "cell_type": "code",
   "execution_count": null,
   "metadata": {
    "collapsed": true
   },
   "outputs": [],
   "source": [
    "# WARNING: execute this cell if you have the numerical solution\n",
    "# for each simulation present in the folder \n",
    "# `cuibm/iterativeConvergence`\n",
    "script = os.path.join('iterativeConvergence',\n",
    "                      'plotIterativeErrors.py')\n",
    "%run $script"
   ]
  },
  {
   "cell_type": "code",
   "execution_count": null,
   "metadata": {
    "collapsed": false
   },
   "outputs": [],
   "source": [
    "Image(os.path.join('iterativeConvergence',\n",
    "                   'iterativeErrors.png'))"
   ]
  },
  {
   "cell_type": "markdown",
   "metadata": {},
   "source": [
    "According to the figure above, the solution for the pressure does not improve (compared to the machine-accurate solution) when using a absolute tolerance smaller than $10^{-11}$ as exit criterion for the Poisson solver.\n",
    "\n",
    "Using a GPU K40, it took us about 2 hours and 15 minutes to compute 500 time-steps at time-increment $10^{-4}$ with an absolute tolerance of $10^{-11}$.\n",
    "(Note that about 99% of the time is spent solving the Poisson system.)\n",
    "The quantity we are trying to replicate in this study is the time-averaged lift coefficient.\n",
    "Krishnan et al. chose an arbitrary range between 32 and 64 non-dimensional time-units.\n",
    "Based on the run-time of the iterative-convergence test, we estimate that it would take us about 120 days to compute the solution up to 64 time-units... (SIGH!)"
   ]
  },
  {
   "cell_type": "markdown",
   "metadata": {},
   "source": [
    "---\n",
    "## Temporal-convergence analysis\n",
    "---"
   ]
  },
  {
   "cell_type": "markdown",
   "metadata": {},
   "source": [
    "We also looked at the temporal error in the solution on the finest grid ($h=0.00267$).\n",
    "Using the solution after $0.1$ time-unit obtained previously with the smallest absolute tolerances, with computed an extra $0.05$ time-unit of flow simulation with different time-increments: $\\Delta t=2\\times10^{-4}$, $1\\times10^{-4}$, and $5\\times10^{-5}$.\n",
    "\n",
    "We compare forces, pressure, and fluxes at time-unit $0.15$ and calculate the observed order of convergence.\n",
    "\n",
    "The next cell runs a Python script named `getTemporalConvergence.py` which requires the numerical solution of the following simulations:\n",
    "* `cuibm/temporalConvergence/dt2.0E-04`,\n",
    "* `cuibm/temporalConvergence/dt1.0E-04`,\n",
    "* `cuibm/temporalConvergence/dt5.0E-05`.\n",
    "We used a GPU K40 to run the cases (the problem necessitates a minimum of 6GB of memory on the device).\n",
    "If you do not have the numerical solutions, you may skip the next cell and execute the one after to display the errors versus the absolute tolerance for the Poisson solver."
   ]
  },
  {
   "cell_type": "code",
   "execution_count": null,
   "metadata": {
    "collapsed": true
   },
   "outputs": [],
   "source": [
    "# WARNING: execute this cell if you have the numerical solution\n",
    "# of the simulations:\n",
    "# - `cuibm/temporalConvergence/dt2.0E-04`,\n",
    "# - `cuibm/temporalConvergence/dt1.0E-04`,\n",
    "# - `cuibm/temporalConvergence/dt5.0E-05`.\n",
    "script = os.path.join('temporalConvergence',\n",
    "                      'getTemporalConvergence.py')\n",
    "%run $script"
   ]
  },
  {
   "cell_type": "code",
   "execution_count": null,
   "metadata": {
    "collapsed": false
   },
   "outputs": [],
   "source": [
    "results = os.path.join('temporalConvergence',\n",
    "                       'temporalConvergence.txt')\n",
    "%cat $results"
   ]
  },
  {
   "cell_type": "markdown",
   "metadata": {},
   "source": [
    "The results above show that the immersed-boundary projection method used in this study is first-order accurate in time, as expected.\n",
    "\n",
    "Thereforce, with a time-increment of $\\Delta t=2\\times10^{-4}$ and an abosolute tolerance of $10^{-11}$ as exit criterion for the Poisson solver, we would need about 60 days to compute 64 time-units of flow-simulation on the finest grid... (SIGH!)\n",
    "\n",
    "At that point, it seems unreasonable to estimate grid-convergence in our quantity of interest, the unsteady lift coefficient averaged between 32 and 64 time-units."
   ]
  },
  {
   "cell_type": "markdown",
   "metadata": {},
   "source": [
    "---\n",
    "## Grid-convergence analysis\n",
    "---"
   ]
  },
  {
   "cell_type": "markdown",
   "metadata": {},
   "source": [
    "We computed about $6$ time-units of flow-simulation on our three systematically refined grids using a time-increment $\\Delta t=2\\times10^{-4}$, an absolute tolerance of $10^{-16}$ for the velocity solver, and an absolute tolerance of $10^{-8}$ for the Poisson solver.\n",
    "\n",
    "The cells below display the instantaneous force coefficients up to 6 time-units."
   ]
  },
  {
   "cell_type": "code",
   "execution_count": null,
   "metadata": {
    "collapsed": false
   },
   "outputs": [],
   "source": [
    "# WARNING: execute this cell if you have computed the numerical solutions\n",
    "script = os.path.join('gridConvergence',\n",
    "                      'plotForceCoefficients.py')\n",
    "%run $script"
   ]
  },
  {
   "cell_type": "code",
   "execution_count": null,
   "metadata": {
    "collapsed": false
   },
   "outputs": [],
   "source": [
    "Image(os.path.join('gridConvergence',\n",
    "                   'forceCoefficients.png'))"
   ]
  },
  {
   "cell_type": "code",
   "execution_count": null,
   "metadata": {
    "collapsed": false
   },
   "outputs": [],
   "source": [
    "Image(os.path.join('gridConvergence',\n",
    "                   'forceCoefficientsZoom.png'))"
   ]
  },
  {
   "cell_type": "markdown",
   "metadata": {},
   "source": [
    "Small phase difference in the time-dependent solution--as it is the case with force coefficients on the coarsest grid--restricts us from calculating the Richardson extrapolation at a particular snapshot.\n",
    "\n",
    "This phase difference in the forces could be due to the discrete error in the convection velocity."
   ]
  },
  {
   "cell_type": "markdown",
   "metadata": {},
   "source": [
    "With cuIBM, we have not been able to achieve a proper grid-convergence analysis due to the lack of time. But at least, we report grid-independence in the quantity of interest."
   ]
  },
  {
   "cell_type": "markdown",
   "metadata": {},
   "source": [
    "---\n",
    "#### References:\n",
    "- Krishnan, A., Socha, J. J., Vlachos, P. P., & Barba, L. A. (2014). Lift and wakes of flying snakes. Physics of Fluids (1994-present), 26(3), 031901.\n",
    "- P. J. Roache, Quantification of Uncertainty in Computational Fluid Dynamics, Annual Review of Fluid Mechanics, Vol. 29: 123-160 (1997), DOI: 10.1146/annurev.fluid.29.1.123, http://www.annualreviews.org/doi/full/10.1146/annurev.fluid.29.1.123\n",
    "- Taira, K., & Colonius, T. (2007). The immersed boundary method: a projection approach. Journal of Computational Physics, 225(2), 2118-2137.\n",
    "---"
   ]
  },
  {
   "cell_type": "code",
   "execution_count": null,
   "metadata": {
    "collapsed": true
   },
   "outputs": [],
   "source": []
  }
 ],
 "metadata": {
  "hide_input": true,
  "kernelspec": {
   "display_name": "Python 2",
   "language": "python",
   "name": "python2"
  },
  "language_info": {
   "codemirror_mode": {
    "name": "ipython",
    "version": 2
   },
   "file_extension": ".py",
   "mimetype": "text/x-python",
   "name": "python",
   "nbconvert_exporter": "python",
   "pygments_lexer": "ipython2",
   "version": "2.7.12"
  }
 },
 "nbformat": 4,
 "nbformat_minor": 0
}
