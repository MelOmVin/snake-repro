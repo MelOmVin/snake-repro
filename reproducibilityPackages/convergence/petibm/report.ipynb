{
 "cells": [
  {
   "cell_type": "markdown",
   "metadata": {},
   "source": [
    "# Independence analysis with PetIBM\n",
    "---"
   ]
  },
  {
   "cell_type": "markdown",
   "metadata": {},
   "source": [
    "The present notebook  contains all the simulation inputs used to conduct an independence analysis with our in-house code PetIBM.\n",
    "\n",
    "PetIBM solves the incompressible Navier-Stokes equations using the immersed-boundary projection method of Taira and Colonius (2007).\n",
    "\n",
    "All simulations reported in the directory were run using [PetIBM-0.1.1](https://github.com/barbagroup/PetIBM/releases/tag/0.1.1) on the university cluster.\n",
    "PetIBM relies on the library PETSc (version 3.5.2) and OpenMPI-1.8."
   ]
  },
  {
   "cell_type": "markdown",
   "metadata": {},
   "source": [
    "---\n",
    "## Table of contents of the directory:\n",
    "---\n",
    "\n",
    "* `gridIndependence/`:\n",
    "    - `h0.004/`: simulation reported in our manuscript using a grid with spacing $h=0.004$ in the uniform region surrounding the bluff-body.\n",
    "    - `h0.006/`: using a coarse grid with spacing $h=0.006$.\n",
    "\n",
    "* `iterativeIndependence/`:\n",
    "    - `rtol5/`: simulation reported in our manuscript using a relative tolerance of $10^{-5}$ for the velocity and Poisson iterative solvers.\n",
    "    - `rtol8/`: tightening the exit criterion to a relative tolerance of $10^{-8}$ for the velocity and Poisson iterative solvers.\n",
    "\n",
    "* `temporalIndependence/`:\n",
    "    - `dt0.0004/`: simulation reported in our manuscript using a time-increment $\\Delta t=4\\times 10^{-4}$.\n",
    "    - `dt0.0002/`: halving the time-increment to $\\Delta t=2\\times 10^{-4}$ to assess the temporal independence in the time-averaged force coefficients."
   ]
  },
  {
   "cell_type": "markdown",
   "metadata": {},
   "source": [
    "---\n",
    "## iterative independence\n",
    "---"
   ]
  },
  {
   "cell_type": "code",
   "execution_count": null,
   "metadata": {
    "collapsed": false
   },
   "outputs": [],
   "source": [
    "# WARNING: execute this cell if you have computed the numerical solutions\n",
    "script = os.path.join('petibm',\n",
    "                      'iterativeIndependence',\n",
    "                      'plotForceCoefficientsCompareRTol.py')\n",
    "%run $script"
   ]
  },
  {
   "cell_type": "code",
   "execution_count": null,
   "metadata": {
    "collapsed": false
   },
   "outputs": [],
   "source": [
    "Image(os.path.join('petibm',\n",
    "                   'iterativeIndependence',\n",
    "                   'forceCoefficientsCompareRTol.png'))"
   ]
  },
  {
   "cell_type": "markdown",
   "metadata": {},
   "source": [
    "---\n",
    "## temporal independence\n",
    "---"
   ]
  },
  {
   "cell_type": "code",
   "execution_count": null,
   "metadata": {
    "collapsed": false
   },
   "outputs": [],
   "source": [
    "# WARNING: execute this cell if you have computed the numerical solutions\n",
    "script = os.path.join('petibm',\n",
    "                      'temporalIndependence',\n",
    "                      'plotForceCoefficientsCompareDt.py')\n",
    "%run $script"
   ]
  },
  {
   "cell_type": "code",
   "execution_count": null,
   "metadata": {
    "collapsed": false
   },
   "outputs": [],
   "source": [
    "Image(os.path.join('petibm',\n",
    "                   'temporalIndependence',\n",
    "                   'forceCoefficientsCompareDt.png'))"
   ]
  },
  {
   "cell_type": "markdown",
   "metadata": {},
   "source": [
    "---\n",
    "## grid independence\n",
    "---"
   ]
  },
  {
   "cell_type": "code",
   "execution_count": null,
   "metadata": {
    "collapsed": true
   },
   "outputs": [],
   "source": [
    "# WARNING: execute this cell if you have computed the numerical solutions\n",
    "script = os.path.join('petibm',\n",
    "                      'gridIndependence',\n",
    "                      'plotForceCoefficientsCompareMeshes.py')\n",
    "%run $script"
   ]
  },
  {
   "cell_type": "code",
   "execution_count": null,
   "metadata": {
    "collapsed": false
   },
   "outputs": [],
   "source": [
    "Image(os.path.join('petibm',\n",
    "                   'gridIndependence',\n",
    "                   'forceCoefficientsCompareMeshes.png'))"
   ]
  },
  {
   "cell_type": "markdown",
   "metadata": {},
   "source": [
    "---\n",
    "#### References:\n",
    "\n",
    "* Krishnan, A., Socha, J. J., Vlachos, P. P., & Barba, L. A. (2014). Lift and wakes of flying snakes. Physics of Fluids (1994-present), 26(3), 031901.\n",
    "\n",
    "---"
   ]
  },
  {
   "cell_type": "code",
   "execution_count": null,
   "metadata": {
    "collapsed": true
   },
   "outputs": [],
   "source": []
  }
 ],
 "metadata": {
  "hide_input": true,
  "kernelspec": {
   "display_name": "Python 2",
   "language": "python",
   "name": "python2"
  },
  "language_info": {
   "codemirror_mode": {
    "name": "ipython",
    "version": 2
   },
   "file_extension": ".py",
   "mimetype": "text/x-python",
   "name": "python",
   "nbconvert_exporter": "python",
   "pygments_lexer": "ipython2",
   "version": "2.7.12"
  }
 },
 "nbformat": 4,
 "nbformat_minor": 0
}
