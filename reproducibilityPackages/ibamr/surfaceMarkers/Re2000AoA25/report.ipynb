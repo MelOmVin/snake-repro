{
 "cells": [
  {
   "cell_type": "markdown",
   "metadata": {
    "collapsed": true
   },
   "source": [
    "# 2D flying-snake at Re=2000 and AoA=25deg (surface markers)"
   ]
  },
  {
   "cell_type": "code",
   "execution_count": 1,
   "metadata": {
    "collapsed": true
   },
   "outputs": [],
   "source": [
    "import os\n",
    "import sys\n",
    "import collections\n",
    "\n",
    "import ipywidgets\n",
    "\n",
    "import snake\n",
    "from snake import miscellaneous\n",
    "from snake.cuibm.simulation import CuIBMSimulation\n",
    "from snake.ibamr.simulation import IBAMRSimulation\n",
    "from snake.geometry import Geometry"
   ]
  },
  {
   "cell_type": "code",
   "execution_count": 2,
   "metadata": {
    "collapsed": false
   },
   "outputs": [
    {
     "name": "stdout",
     "output_type": "stream",
     "text": [
      "Python version: 2.7.11 |Anaconda 2.5.0 (64-bit)| (default, Dec  6 2015, 18:08:32) \n",
      "[GCC 4.4.7 20120313 (Red Hat 4.4.7-1)]\n",
      "snake version:0.1.dev\n"
     ]
    }
   ],
   "source": [
    "print('Python version: ' + sys.version)\n",
    "print('snake version:' + snake.__version__)"
   ]
  },
  {
   "cell_type": "markdown",
   "metadata": {},
   "source": [
    "---"
   ]
  },
  {
   "cell_type": "markdown",
   "metadata": {},
   "source": [
    "### Objectives of the simulation\n",
    "\n",
    "We aim to compute the flow around a snake cross-section with angle-of-attack 25 degrees at Reynolds number 2000.\n",
    "\n",
    "We use the `ConstraintIBMethod` implemented in IBAMR.\n",
    "\n",
    "We place the Lagrangian markers only on the immersed-boundary where the resolution is the same as the finest background mesh.\n",
    "\n",
    "We use a \"stabilized outlet\" boundary condition to avoid flow propagation back into the computational domain. The stabilized condition was suggested by [Boyce Griffith](https://groups.google.com/forum/#!topic/ibamr-users/EEHzVxMyLWw) and acts as a force pushing the fluid outside the computational domain."
   ]
  },
  {
   "cell_type": "markdown",
   "metadata": {},
   "source": [
    "---"
   ]
  },
  {
   "cell_type": "markdown",
   "metadata": {},
   "source": [
    "### General information\n",
    "\n",
    "* software: `IBAMR` \n",
    "* version: SHA: `9464268fc0507fe8c94be126e6beaf267a466788`\n",
    "* dependencies: `OpenMPI-1.8` / `GCC-4.7.0` / `SAMRAI-2.4.4` / `HDF5-1.8.13` / `SILO-4.10`\n",
    "* linear algebra library: `PETSc-3.5.2`\n",
    "* submission date: 2015/07/28 (mesnardo)\n",
    "* running date: 2015/07/28\n",
    "* machine: `colonial one` (short queue, 16 processes, 1 node)"
   ]
  },
  {
   "cell_type": "code",
   "execution_count": null,
   "metadata": {
    "collapsed": false
   },
   "outputs": [],
   "source": [
    "simulation = IBAMRSimulation(description='IBAMR')"
   ]
  },
  {
   "cell_type": "markdown",
   "metadata": {},
   "source": [
    "---"
   ]
  },
  {
   "cell_type": "markdown",
   "metadata": {},
   "source": [
    "### Computational domain and mesh\n",
    "\n",
    "* Adaptive mesh refinement technique.\n",
    "* domain: `[-15, 15]x[-15, 15]`\n",
    "* `30x30` cells on the coarsest level (cell-width: 30.0/30=1.0).\n",
    "* We are using 5 levels of refinement (counting level 0) with a refinement ratio of 4 between two consecutive levels (minimum cell-width: 1.0/4.0^4=0.004).\n",
    "* Vorticity thresholds are used to tag cells for refinement."
   ]
  },
  {
   "cell_type": "markdown",
   "metadata": {},
   "source": [
    "---"
   ]
  },
  {
   "cell_type": "markdown",
   "metadata": {},
   "source": [
    "### Boundary conditions"
   ]
  },
  {
   "cell_type": "markdown",
   "metadata": {
    "collapsed": false
   },
   "source": [
    "- x-velocity: \n",
    "    + inlet: fixed-value (1.0), \n",
    "    + outlet: zero-gradient, \n",
    "    + bottom/top: zero-gradient\n",
    "- y-velocity:\n",
    "    + inlet: fixed-value (0.0),\n",
    "    + outlet: zero-gradient,\n",
    "    + bottom/top: fixed-value (0.0)\n",
    "- BoundaryStabilization of type \"OUTFLOW\""
   ]
  },
  {
   "cell_type": "markdown",
   "metadata": {},
   "source": [
    "---"
   ]
  },
  {
   "cell_type": "markdown",
   "metadata": {},
   "source": [
    "### Simulation parameters"
   ]
  },
  {
   "cell_type": "markdown",
   "metadata": {
    "collapsed": false
   },
   "source": [
    "- start/end/saving/time-increment: 0 / 80 / max CFL=0.3\n",
    "- INS: FGMRES (default, rtol 1.0E-06)\n",
    "- preconditioner: projection method\n",
    "    + velocity solver: CG (default, rtol 1.0E-06)\n",
    "    + pressure solver: CG (default, rtol 1.0E-06)"
   ]
  },
  {
   "cell_type": "markdown",
   "metadata": {},
   "source": [
    "---"
   ]
  },
  {
   "cell_type": "markdown",
   "metadata": {},
   "source": [
    "### Input file"
   ]
  },
  {
   "cell_type": "code",
   "execution_count": null,
   "metadata": {
    "collapsed": false
   },
   "outputs": [],
   "source": [
    "input_info = os.path.join(simulation.directory, 'input2d')\n",
    "%cat $input_info"
   ]
  },
  {
   "cell_type": "markdown",
   "metadata": {},
   "source": [
    "---"
   ]
  },
  {
   "cell_type": "markdown",
   "metadata": {},
   "source": [
    "### Creating the Lagrangian markers"
   ]
  },
  {
   "cell_type": "code",
   "execution_count": null,
   "metadata": {
    "collapsed": false
   },
   "outputs": [],
   "source": [
    "body = Geometry(file_path=os.path.join(simulation.directory,\n",
    "                                       'flyingSnake2dAoA0ds0.004.bdy'))\n",
    "body.rotation(pitch=-25.0)\n",
    "body.write(file_path=os.path.join(simulation.directory,\n",
    "                                  'flyingSnake2dAoA25ds004.vertex'))"
   ]
  },
  {
   "cell_type": "markdown",
   "metadata": {},
   "source": [
    "### Running the case\n",
    "\n",
    "To submit the simulation on `Colonial One`:\n",
    "    > sbatch runIBAMRColonialOne.sh"
   ]
  },
  {
   "cell_type": "markdown",
   "metadata": {},
   "source": [
    "---"
   ]
  },
  {
   "cell_type": "markdown",
   "metadata": {},
   "source": [
    "### Post-processing\n",
    "\n",
    "We computed 80 non-dimensional time-units in about 20 hours."
   ]
  },
  {
   "cell_type": "markdown",
   "metadata": {},
   "source": [
    "#### Forces"
   ]
  },
  {
   "cell_type": "code",
   "execution_count": null,
   "metadata": {
    "collapsed": false
   },
   "outputs": [],
   "source": [
    "simulation.read_forces()\n",
    "simulation.get_mean_forces(limits=[32.0, 64.0])\n",
    "simulation.get_strouhal(limits=[32.0, 64.0], order=200)\n",
    "simulation.plot_forces(display_coefficients=True,\n",
    "                       coefficient=-2.0,\n",
    "                       display_extrema=True, order=200,\n",
    "                       limits=(0.0, 80.0, 0.0, 3.0),\n",
    "                       style='snakeReproducibility',\n",
    "                       save_name='forceCoefficients')\n",
    "dataframe = simulation.create_dataframe_forces(display_strouhal=True,\n",
    "                                               display_coefficients=True,\n",
    "                                               coefficient=-2.0)"
   ]
  },
  {
   "cell_type": "code",
   "execution_count": null,
   "metadata": {
    "collapsed": false
   },
   "outputs": [],
   "source": [
    "krishnan = CuIBMSimulation(description='Krishnan et al. (2014)')\n",
    "krishnan.read_forces(file_path=os.path.join(os.environ['SNAKE'],\n",
    "                                            'resources',\n",
    "                                            'flyingSnake2d_cuibm_anush',\n",
    "                                            'flyingSnake2dRe2000AoA25',\n",
    "                                            'forces'))\n",
    "krishnan.get_mean_forces(limits=[32.0, 64.0])\n",
    "krishnan.get_strouhal(limits=[32.0, 64.0], order=200)\n",
    "simulation.plot_forces(display_coefficients=True,\n",
    "                       coefficient=-2.0,\n",
    "                       display_extrema=True, order=200,\n",
    "                       limits=(0.0, 80.0, 0.0, 3.0),\n",
    "                       other_simulations=krishnan,\n",
    "                       other_coefficients=2.0,\n",
    "                       style='snakeReproducibility',\n",
    "                       save_name='forceCoefficientsCompareKrishnanEtAl2014')\n",
    "dataframe2 = krishnan.create_dataframe_forces(display_strouhal=True,\n",
    "                                              display_coefficients=True,\n",
    "                                              coefficient=2.0)"
   ]
  },
  {
   "cell_type": "code",
   "execution_count": null,
   "metadata": {
    "collapsed": false
   },
   "outputs": [],
   "source": [
    "dataframes = dataframe.append(dataframe2)\n",
    "print(dataframes)"
   ]
  },
  {
   "cell_type": "code",
   "execution_count": null,
   "metadata": {
    "collapsed": false
   },
   "outputs": [],
   "source": [
    "images_directory = os.path.join(simulation.directory,\n",
    "                                'images')\n",
    "figures = collections.OrderedDict()\n",
    "figures['present'] = os.path.join(images_directory,\n",
    "                                  'forceCoefficients.png')\n",
    "figures['present + Krishnan et al. (2014)'] = os.path.join(images_directory,\n",
    "                                                           'forceCoefficientsCompareKrishnanEtAl2014.png')\n",
    "ipywidgets.interact(miscellaneous.display_image, figure=figures);"
   ]
  },
  {
   "cell_type": "markdown",
   "metadata": {},
   "source": [
    "#### Vorticity field"
   ]
  },
  {
   "cell_type": "code",
   "execution_count": null,
   "metadata": {
    "collapsed": false
   },
   "outputs": [],
   "source": [
    "simulation.plot_field_contours_visit('vorticity', (-5.0, 5.0),\n",
    "                                     body='flyingSnake2dAoA25ds004',\n",
    "                                     solution_folder='numericalSolution',\n",
    "                                     view=(-2.0, -5.0, 15.0, 5.0),\n",
    "                                     width=600)"
   ]
  },
  {
   "cell_type": "code",
   "execution_count": null,
   "metadata": {
    "collapsed": false
   },
   "outputs": [],
   "source": [
    "miscellaneous.displayer(os.path.join(simulation.directory,\n",
    "                                     'images',\n",
    "                                     'vorticity_-2.00_-5.00_15.00_5.00'))"
   ]
  },
  {
   "cell_type": "markdown",
   "metadata": {},
   "source": [
    "#### Pressure field"
   ]
  },
  {
   "cell_type": "code",
   "execution_count": null,
   "metadata": {
    "collapsed": false
   },
   "outputs": [],
   "source": [
    "simulation.plot_field_contours_visit('pressure', (-1.0, 0.5),\n",
    "                                     body='flyingSnake2dAoA25ds004',\n",
    "                                     solution_folder='numericalSolution',\n",
    "                                     view=(-2.0, -5.0, 15.0, 5.0),\n",
    "                                     width=600)"
   ]
  },
  {
   "cell_type": "code",
   "execution_count": null,
   "metadata": {
    "collapsed": false
   },
   "outputs": [],
   "source": [
    "miscellaneous.displayer(os.path.join(simulation.directory,\n",
    "                                     'images',\n",
    "                                     'pressure_-2.00_-5.00_15.00_5.00'))"
   ]
  },
  {
   "cell_type": "code",
   "execution_count": null,
   "metadata": {
    "collapsed": true
   },
   "outputs": [],
   "source": []
  }
 ],
 "metadata": {
  "hide_input": true,
  "kernelspec": {
   "display_name": "Python 2",
   "language": "python",
   "name": "python2"
  },
  "language_info": {
   "codemirror_mode": {
    "name": "ipython",
    "version": 2
   },
   "file_extension": ".py",
   "mimetype": "text/x-python",
   "name": "python",
   "nbconvert_exporter": "python",
   "pygments_lexer": "ipython2",
   "version": "2.7.11"
  }
 },
 "nbformat": 4,
 "nbformat_minor": 0
}
